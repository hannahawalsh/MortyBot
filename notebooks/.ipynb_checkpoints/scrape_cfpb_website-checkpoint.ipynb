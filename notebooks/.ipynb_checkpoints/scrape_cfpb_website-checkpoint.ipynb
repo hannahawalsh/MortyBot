{
 "cells": [
  {
   "cell_type": "markdown",
   "metadata": {},
   "source": [
    "![consumer financial protection beureau](https://files.consumerfinance.gov/f/images/FCM_mortgages.original.png)\n",
    "\n",
    "# Scrape the CFPB Website\n",
    "---\n",
    "The [Consumer Financial Protection Bureau](https://www.consumerfinance.gov/consumer-tools/mortgages/) provides a wealth of unbiased information about mortgages and the application process. We will scrape all the articles they've posted about mortgages to use in our model.  \n",
    "After scraping the raw text, we will format it so that it works well with our encoding and GPT model."
   ]
  },
  {
   "cell_type": "code",
   "execution_count": 1,
   "metadata": {},
   "outputs": [],
   "source": [
    "import requests\n",
    "from bs4 import BeautifulSoup\n",
    "import re\n",
    "import string\n",
    "import pandas as pd\n",
    "from tqdm.notebook import tqdm\n",
    "from transformers import GPT2TokenizerFast\n",
    "import tiktoken\n",
    "from nltk.tokenize import sent_tokenize\n",
    "import os\n",
    "\n",
    "import warnings\n",
    "warnings.filterwarnings(\"ignore\", message=\"Unverified HTTPS request is being made to host\")\n",
    "os.environ[\"CURL_CA_BUNDLE\"] = \"\"\n",
    "\n",
    "pd.set_option(\"display.max_colwidth\", None)"
   ]
  },
  {
   "cell_type": "markdown",
   "metadata": {},
   "source": [
    "---\n",
    "### Text formatting\n",
    "Web scraping is notoriously dirty, so we define a function that makes the string prettier and easier for a machine learning model - and humans - to read."
   ]
  },
  {
   "cell_type": "code",
   "execution_count": 2,
   "metadata": {},
   "outputs": [],
   "source": [
    "def prettify_string(text):\n",
    "    \"\"\" \n",
    "    Reformat a text string to follow the rules of English \n",
    "    punctuation and have only readable characters\n",
    "    \"\"\"\n",
    "    # Replace quotes and dashes with their ASCII counterparts\n",
    "    text = (\n",
    "        text\n",
    "        .replace(\"’\", \"'\")\n",
    "        .replace(\"‘\", \"'\")\n",
    "        .replace('“', '\"')\n",
    "        .replace('”', '\"')\n",
    "        .replace(\"–\", \" - \")\n",
    "        .replace(\"—\", \" - \")\n",
    "        .replace(\"\\n\", \" \") # No new lines in text\n",
    "        .replace(\"\\t\", \" \") # No tabs\n",
    "    )\n",
    "    # Only printable characters\n",
    "    text = \"\".join([c for c in text if c in string.printable])\n",
    "    # No double white space\n",
    "    text = re.sub(r\"\\s+\", \" \", text)\n",
    "    # Remove space before punctuation\n",
    "    text = re.sub(r\"(\\s)([.,;:'])\", r\"\\2\", text) \n",
    "    # Remove double punctuation\n",
    "    text = re.sub(r\"([,.;])([,.;]+)\", r\"\\1\", text) \n",
    "    # Space between words\n",
    "    text = re.sub(r\"([a-zA-Z])([,.;])([a-zA-Z])\", r\"\\1\\2 \\3\", text)\n",
    "    # Strip leading/trailing whitespace\n",
    "    return text.strip()"
   ]
  },
  {
   "cell_type": "markdown",
   "metadata": {},
   "source": [
    "---\n",
    "### Key Terms\n",
    "The CFPB provides a [helpful explaination](https://www.consumerfinance.gov/consumer-tools/mortgages/answers/key-terms/) of some of the most new and confusing terms surrounding mortgages. It explains everything from APR to initial adjustment cap and beyond.  \n",
    "We will scrape this page to get the definitions of the terms. Since some of the definitions start with \"It means,\" we will add back in the context of the term."
   ]
  },
  {
   "cell_type": "code",
   "execution_count": 3,
   "metadata": {},
   "outputs": [],
   "source": [
    "# Scrap raw HTML from webpage\n",
    "base_url = \"https://www.consumerfinance.gov/consumer-tools/mortgages/answers/\"\n",
    "key_terms_url = base_url + \"key-terms/\"\n",
    "page = requests.get(key_terms_url, verify=False)\n",
    "soup = BeautifulSoup(page.content, \"html.parser\")"
   ]
  },
  {
   "cell_type": "code",
   "execution_count": 4,
   "metadata": {},
   "outputs": [],
   "source": [
    "# Extract the term and the definition\n",
    "def get_term(term):\n",
    "    found = term.find(\"dt\", class_=\"term_name\")\n",
    "    return prettify_string(found.get_text())\n",
    "        \n",
    "def get_definition(term):\n",
    "    found = term.find(\"dd\", class_=\"term_definition\")\n",
    "    text = prettify_string(found.get_text())\n",
    "    text = (\n",
    "        text\n",
    "        .split(\"Read more\")[0]\n",
    "        .split(\"Learn more\")[0]\n",
    "    )\n",
    "    return text\n",
    "\n",
    "def_records = [\n",
    "    (get_term(term), get_definition(term))\n",
    "    for term in soup.find_all(\"div\", class_=\"term\")]\n",
    "term_df = pd.DataFrame(def_records, columns=[\"term\", \"definition\"])\n",
    "\n",
    "\n",
    "# Adjust the answer in case it's ambigouous without the term\n",
    "def adjust_answer(row):\n",
    "    if not row.definition.startswith(\"It means\"):\n",
    "        return row.definition\n",
    "    return re.sub(\"It\", row.term, row.definition)\n",
    "term_df[\"content\"] = term_df.apply(adjust_answer, axis=1)"
   ]
  },
  {
   "cell_type": "code",
   "execution_count": 5,
   "metadata": {},
   "outputs": [
    {
     "data": {
      "text/html": [
       "<div>\n",
       "<style scoped>\n",
       "    .dataframe tbody tr th:only-of-type {\n",
       "        vertical-align: middle;\n",
       "    }\n",
       "\n",
       "    .dataframe tbody tr th {\n",
       "        vertical-align: top;\n",
       "    }\n",
       "\n",
       "    .dataframe thead th {\n",
       "        text-align: right;\n",
       "    }\n",
       "</style>\n",
       "<table border=\"1\" class=\"dataframe\">\n",
       "  <thead>\n",
       "    <tr style=\"text-align: right;\">\n",
       "      <th></th>\n",
       "      <th>term</th>\n",
       "      <th>definition</th>\n",
       "      <th>content</th>\n",
       "    </tr>\n",
       "  </thead>\n",
       "  <tbody>\n",
       "    <tr>\n",
       "      <th>4</th>\n",
       "      <td>Amount financed</td>\n",
       "      <td>It means the amount of money you are borrowing from the lender, minus most of the upfront fees the lender is charging you.</td>\n",
       "      <td>Amount financed means the amount of money you are borrowing from the lender, minus most of the upfront fees the lender is charging you.</td>\n",
       "    </tr>\n",
       "    <tr>\n",
       "      <th>5</th>\n",
       "      <td>Annual income</td>\n",
       "      <td>Annual income is a factor in a mortgage loan application and generally refers to your total earned, pre-tax income over a year. Annual income may include income from full-time or part-time work, self-employment, tips, commissions, overtime, bonuses, or other sources. A lender will use information about your annual income and your existing monthly debts to determine if you have the ability to repay the loan. Whether a lender will rely upon a specific income source or amount when considering you for a loan will often depend upon whether you can reasonably expect the income to continue.</td>\n",
       "      <td>Annual income is a factor in a mortgage loan application and generally refers to your total earned, pre-tax income over a year. Annual income may include income from full-time or part-time work, self-employment, tips, commissions, overtime, bonuses, or other sources. A lender will use information about your annual income and your existing monthly debts to determine if you have the ability to repay the loan. Whether a lender will rely upon a specific income source or amount when considering you for a loan will often depend upon whether you can reasonably expect the income to continue.</td>\n",
       "    </tr>\n",
       "  </tbody>\n",
       "</table>\n",
       "</div>"
      ],
      "text/plain": [
       "              term  \\\n",
       "4  Amount financed   \n",
       "5    Annual income   \n",
       "\n",
       "                                                                                                                                                                                                                                                                                                                                                                                                                                                                                                                                                                                                        definition  \\\n",
       "4                                                                                                                                                                                                                                                                                                                                                                                                                                                                                      It means the amount of money you are borrowing from the lender, minus most of the upfront fees the lender is charging you.    \n",
       "5  Annual income is a factor in a mortgage loan application and generally refers to your total earned, pre-tax income over a year. Annual income may include income from full-time or part-time work, self-employment, tips, commissions, overtime, bonuses, or other sources. A lender will use information about your annual income and your existing monthly debts to determine if you have the ability to repay the loan. Whether a lender will rely upon a specific income source or amount when considering you for a loan will often depend upon whether you can reasonably expect the income to continue.    \n",
       "\n",
       "                                                                                                                                                                                                                                                                                                                                                                                                                                                                                                                                                                                                           content  \n",
       "4                                                                                                                                                                                                                                                                                                                                                                                                                                                                         Amount financed means the amount of money you are borrowing from the lender, minus most of the upfront fees the lender is charging you.   \n",
       "5  Annual income is a factor in a mortgage loan application and generally refers to your total earned, pre-tax income over a year. Annual income may include income from full-time or part-time work, self-employment, tips, commissions, overtime, bonuses, or other sources. A lender will use information about your annual income and your existing monthly debts to determine if you have the ability to repay the loan. Whether a lender will rely upon a specific income source or amount when considering you for a loan will often depend upon whether you can reasonably expect the income to continue.   "
      ]
     },
     "execution_count": 5,
     "metadata": {},
     "output_type": "execute_result"
    }
   ],
   "source": [
    "# Here's what it looks like\n",
    "term_df.loc[4:5]"
   ]
  },
  {
   "cell_type": "markdown",
   "metadata": {},
   "source": [
    "---\n",
    "### Mortgage Questions and Answers\n",
    "The CFPB also provides more [detailed answers](https://www.consumerfinance.gov/consumer-tools/mortgages/answers/) to specific questions. These are grouped into 4 categories: basics, common issues, know your rights, and how-to guides.  \n",
    "Each question gets its own article. The articles are listed in a paginated format on their website, so we can scrape the article urls, then scrape the articles themselves. Each article has a title (which is the question), a short answer (optional), and a full answer. "
   ]
  },
  {
   "cell_type": "code",
   "execution_count": 6,
   "metadata": {},
   "outputs": [],
   "source": [
    "# Get all pages with article links\n",
    "URL_pages = {\n",
    "    \"basics\": 5,\n",
    "    \"common-issues\": 5,\n",
    "    \"know-your-rights\": 3,\n",
    "    \"how-to-guides\": 2\n",
    "}\n",
    "URLs = []\n",
    "for k, v in URL_pages.items():\n",
    "    URLs.extend([f\"{base_url}{k}?page={i+1}\" for i in range(v)])\n",
    "\n",
    "# For each of these pages, scrape all of the article URLs\n",
    "articles = []\n",
    "for url in URLs:\n",
    "    page = requests.get(url, verify=False)\n",
    "    soup = BeautifulSoup(page.content, \"html.parser\")\n",
    "    articles.extend([\n",
    "        f\"https://{link.find('a').get('data-pretty-href')}\" \n",
    "        for link in soup.find_all(\"article\")])"
   ]
  },
  {
   "cell_type": "code",
   "execution_count": 7,
   "metadata": {},
   "outputs": [
    {
     "data": {
      "application/vnd.jupyter.widget-view+json": {
       "model_id": "7bc54b9cc9714ea6807959f6bd13778a",
       "version_major": 2,
       "version_minor": 0
      },
      "text/plain": [
       "Scraping:   0%|          | 0/313 [00:00<?, ?it/s]"
      ]
     },
     "metadata": {},
     "output_type": "display_data"
    },
    {
     "name": "stdout",
     "output_type": "stream",
     "text": [
      "\n",
      "240 records\n"
     ]
    }
   ],
   "source": [
    "answer_df = pd.DataFrame(columns=[\"question\", \"short_answer\", \"long_answer\"])\n",
    "errors = []\n",
    "\n",
    "# Loop through all of the URLs to parse the article\n",
    "for i, article_link in enumerate(tqdm(articles, desc=\"Scraping\")):\n",
    "    try:\n",
    "        # Scrape article\n",
    "        article = requests.get(article_link, verify=False)\n",
    "        article_soup = BeautifulSoup(article.content, \"html.parser\")\n",
    "        \n",
    "        # Get main question/page title\n",
    "        question = article_soup.find('h1').get_text()\n",
    "        \n",
    "        # Skip if we've seen this article before\n",
    "        if question in answer_df.question.values:\n",
    "            # Note: there are duplicate articles that have\n",
    "            #       different URLs. We don't want those.\n",
    "            \n",
    "            continue\n",
    "        \n",
    "        # See if there's a short answer for this article\n",
    "        lead = article_soup.find(\"div\", class_=\"lead-paragraph\")\n",
    "        short_answer = lead.get_text() if lead else \"\"\n",
    "        \n",
    "        # Get long answer, including list items\n",
    "        long_answer = (\n",
    "            article_soup\n",
    "            .find(\"div\", class_=\"answer-text\")\n",
    "            .find(\"div\", class_=\"row\")\n",
    "        )\n",
    "        long_answer = [\n",
    "            f\"{line.get_text()}{';' if line.name == 'li' else ''}\"\n",
    "            for line in long_answer.find_all([\"h1\", \"h2\", \"p\", \"li\"])\n",
    "        ]\n",
    "        long_answer = \" \".join(long_answer)\n",
    "        \n",
    "        # Append information to dataframe\n",
    "        answer_df.loc[i] = {\n",
    "            \"question\": question, \n",
    "            \"short_answer\": short_answer, \n",
    "            \"long_answer\": long_answer\n",
    "        }\n",
    "        \n",
    "    except Exception as e:\n",
    "        # If it fails, add to errors\n",
    "        print(f\"Failed on {article_link}:\\n{e}\")\n",
    "        errors.append(article_link)\n",
    "        \n",
    "# Apply formatting to all text\n",
    "answer_df = answer_df.applymap(prettify_string)\n",
    "\n",
    "print(f\"\\n{len(answer_df)} records\")"
   ]
  },
  {
   "cell_type": "markdown",
   "metadata": {},
   "source": [
    "When we feed the data into the embedding model, we don't want \n",
    "individual texts to be too long, so we set a token cutoff and \n",
    "break text that is too long into multiple records.  \n",
    "Once we've broken down large records, we'll join together the \n",
    "question, short answer, and long answer (section) to get one\n",
    "cohesive content entry."
   ]
  },
  {
   "cell_type": "code",
   "execution_count": 8,
   "metadata": {},
   "outputs": [],
   "source": [
    "# We want to format the text to have the question, the short answer, and the \n",
    "# long answer. There are some really long bits of text, so we should break \n",
    "# those into smaller chunks.\n",
    "\n",
    "TOKENIZER = GPT2TokenizerFast.from_pretrained(\"gpt2\")\n",
    "ENCODING = tiktoken.get_encoding(\"cl100k_base\")\n",
    "\n",
    "def count_tokens(text):\n",
    "    \"\"\" Count number of tokens. \"\"\"\n",
    "    return len(ENCODING.encode(text))\n",
    "      \n",
    "    \n",
    "def format_content(row, max_len=590):\n",
    "    \"\"\"\n",
    "    Create the content column of our answer data frame for use \n",
    "    in our embeddings model. Include the question, short answer, \n",
    "    and long answer. If the body is too long, break it into \n",
    "    several entries by returning a list and later using .explode()\n",
    "    For each of the chunks of the body, we will prepend the \n",
    "    title question and short answer\n",
    "    \"\"\"\n",
    "    prefix = row.question + \" \" + row.short_answer + \" \"\n",
    "    prefix_tokens = count_tokens(prefix)\n",
    "    max_len -= prefix_tokens\n",
    "    remaining_tokens = count_tokens(row.long_answer)\n",
    "    if prefix_tokens + remaining_tokens < max_len:\n",
    "        return prefix + row.long_answer\n",
    "    \n",
    "    # Break into smaller chunks by tokenizing sentences\n",
    "    sentences = sent_tokenize(row.long_answer)\n",
    "    use_text = []\n",
    "    while True:\n",
    "        # Count the remaining total tokens\n",
    "        remaining = count_tokens(\". \".join(sentences))\n",
    "        \n",
    "        # Remaining text is shorter than maximum length\n",
    "        if remaining <= max_len:\n",
    "            use_text.append(sentences)\n",
    "            break\n",
    "\n",
    "        # Find the maximum number of sentences until the\n",
    "        # maximum token length is reached\n",
    "        ntokens = 0\n",
    "        for i, sentence in enumerate(sentences):\n",
    "            ntokens += 1 + count_tokens(sentence)\n",
    "            if ntokens > max_len:\n",
    "                use_text.append(sentences[:i][:-1])\n",
    "                sentences = sentences[i:]\n",
    "                break\n",
    "                \n",
    "    # Join each of those sublists into cohesive chunks\n",
    "    chunks = [f\"{prefix} {'. '.join(x)}.\" for x in use_text]\n",
    "    return chunks"
   ]
  },
  {
   "cell_type": "code",
   "execution_count": 9,
   "metadata": {},
   "outputs": [
    {
     "name": "stdout",
     "output_type": "stream",
     "text": [
      "New length: 268 records\n"
     ]
    }
   ],
   "source": [
    "MAX_LENGTH = 590\n",
    "answer_df[\"content\"] = answer_df.apply(\n",
    "    format_content, max_len=MAX_LENGTH, axis=1)\n",
    "answer_df = answer_df.explode(\"content\")\n",
    "\n",
    "print(f\"New length: {len(answer_df)} records\")"
   ]
  },
  {
   "cell_type": "code",
   "execution_count": 10,
   "metadata": {},
   "outputs": [
    {
     "data": {
      "text/html": [
       "<div>\n",
       "<style scoped>\n",
       "    .dataframe tbody tr th:only-of-type {\n",
       "        vertical-align: middle;\n",
       "    }\n",
       "\n",
       "    .dataframe tbody tr th {\n",
       "        vertical-align: top;\n",
       "    }\n",
       "\n",
       "    .dataframe thead th {\n",
       "        text-align: right;\n",
       "    }\n",
       "</style>\n",
       "<table border=\"1\" class=\"dataframe\">\n",
       "  <thead>\n",
       "    <tr style=\"text-align: right;\">\n",
       "      <th></th>\n",
       "      <th>question</th>\n",
       "      <th>short_answer</th>\n",
       "      <th>long_answer</th>\n",
       "      <th>content</th>\n",
       "    </tr>\n",
       "  </thead>\n",
       "  <tbody>\n",
       "    <tr>\n",
       "      <th>0</th>\n",
       "      <td>What are my rights as a servicemember under the Equal Credit Opportunity Act? Can a creditor refuse to extend credit to me just because I'm a servicemember?</td>\n",
       "      <td>It depends. Service in the military - whether current or prior service - is not a protected class under the Equal Credit Opportunity Act (ECOA).</td>\n",
       "      <td>But just like your civilian counterparts, you are covered by the ECOA. The ECOA is a federal law that makes it illegal for a creditor to discriminate against you, in any aspect of a credit transaction, because of: Sex (including sexual orientation and gender identity); Age (provided the applicant is old enough to enter a contract); Race; Color; National origin; Religion; Marital status; Whether all or part of your income is from any public assistance program. This includes, but is not limited to, Social Security and Supplemental Security Income (SSI), unemployment compensation, Temporary Assistance to Needy Families (TANF), and Supplemental Nutritional Assistance Program benefits (SNAP). Some Veterans' benefits may also be considered income from a public assistance program (in which case no creditor may discriminate against a veteran on the basis of receiving such benefits). Whether you've exercised in good faith a right under the Consumer Credit Protection Act (CCPA). The CCPA is a collection of consumer protection laws, including ECOA, relating to credit; Some state laws do make it illegal to discriminate against covered persons based on active duty or veteran/military status. These states include: Illinois; Massachusetts; New York; Ohio; Washington; If you are in one of these states and believe you may have been discriminated against, contact your local JAG. Use the JAG Locator to find your local JAG Legal Assistance attorney.</td>\n",
       "      <td>What are my rights as a servicemember under the Equal Credit Opportunity Act? Can a creditor refuse to extend credit to me just because I'm a servicemember? It depends. Service in the military - whether current or prior service - is not a protected class under the Equal Credit Opportunity Act (ECOA). But just like your civilian counterparts, you are covered by the ECOA. The ECOA is a federal law that makes it illegal for a creditor to discriminate against you, in any aspect of a credit transaction, because of: Sex (including sexual orientation and gender identity); Age (provided the applicant is old enough to enter a contract); Race; Color; National origin; Religion; Marital status; Whether all or part of your income is from any public assistance program. This includes, but is not limited to, Social Security and Supplemental Security Income (SSI), unemployment compensation, Temporary Assistance to Needy Families (TANF), and Supplemental Nutritional Assistance Program benefits (SNAP). Some Veterans' benefits may also be considered income from a public assistance program (in which case no creditor may discriminate against a veteran on the basis of receiving such benefits). Whether you've exercised in good faith a right under the Consumer Credit Protection Act (CCPA). The CCPA is a collection of consumer protection laws, including ECOA, relating to credit; Some state laws do make it illegal to discriminate against covered persons based on active duty or veteran/military status. These states include: Illinois; Massachusetts; New York; Ohio; Washington; If you are in one of these states and believe you may have been discriminated against, contact your local JAG. Use the JAG Locator to find your local JAG Legal Assistance attorney.</td>\n",
       "    </tr>\n",
       "  </tbody>\n",
       "</table>\n",
       "</div>"
      ],
      "text/plain": [
       "                                                                                                                                                       question  \\\n",
       "0  What are my rights as a servicemember under the Equal Credit Opportunity Act? Can a creditor refuse to extend credit to me just because I'm a servicemember?   \n",
       "\n",
       "                                                                                                                                       short_answer  \\\n",
       "0  It depends. Service in the military - whether current or prior service - is not a protected class under the Equal Credit Opportunity Act (ECOA).   \n",
       "\n",
       "                                                                                                                                                                                                                                                                                                                                                                                                                                                                                                                                                                                                                                                                                                                                                                                                                                                                                                                                                                                                                                                                                                                                                                                                                                                                                                                                                                                                                                                                                                     long_answer  \\\n",
       "0  But just like your civilian counterparts, you are covered by the ECOA. The ECOA is a federal law that makes it illegal for a creditor to discriminate against you, in any aspect of a credit transaction, because of: Sex (including sexual orientation and gender identity); Age (provided the applicant is old enough to enter a contract); Race; Color; National origin; Religion; Marital status; Whether all or part of your income is from any public assistance program. This includes, but is not limited to, Social Security and Supplemental Security Income (SSI), unemployment compensation, Temporary Assistance to Needy Families (TANF), and Supplemental Nutritional Assistance Program benefits (SNAP). Some Veterans' benefits may also be considered income from a public assistance program (in which case no creditor may discriminate against a veteran on the basis of receiving such benefits). Whether you've exercised in good faith a right under the Consumer Credit Protection Act (CCPA). The CCPA is a collection of consumer protection laws, including ECOA, relating to credit; Some state laws do make it illegal to discriminate against covered persons based on active duty or veteran/military status. These states include: Illinois; Massachusetts; New York; Ohio; Washington; If you are in one of these states and believe you may have been discriminated against, contact your local JAG. Use the JAG Locator to find your local JAG Legal Assistance attorney.   \n",
       "\n",
       "                                                                                                                                                                                                                                                                                                                                                                                                                                                                                                                                                                                                                                                                                                                                                                                                                                                                                                                                                                                                                                                                                                                                                                                                                                                                                                                                                                                                                                                                                                                                                                                                                                                                                                                                                                                                                       content  \n",
       "0  What are my rights as a servicemember under the Equal Credit Opportunity Act? Can a creditor refuse to extend credit to me just because I'm a servicemember? It depends. Service in the military - whether current or prior service - is not a protected class under the Equal Credit Opportunity Act (ECOA). But just like your civilian counterparts, you are covered by the ECOA. The ECOA is a federal law that makes it illegal for a creditor to discriminate against you, in any aspect of a credit transaction, because of: Sex (including sexual orientation and gender identity); Age (provided the applicant is old enough to enter a contract); Race; Color; National origin; Religion; Marital status; Whether all or part of your income is from any public assistance program. This includes, but is not limited to, Social Security and Supplemental Security Income (SSI), unemployment compensation, Temporary Assistance to Needy Families (TANF), and Supplemental Nutritional Assistance Program benefits (SNAP). Some Veterans' benefits may also be considered income from a public assistance program (in which case no creditor may discriminate against a veteran on the basis of receiving such benefits). Whether you've exercised in good faith a right under the Consumer Credit Protection Act (CCPA). The CCPA is a collection of consumer protection laws, including ECOA, relating to credit; Some state laws do make it illegal to discriminate against covered persons based on active duty or veteran/military status. These states include: Illinois; Massachusetts; New York; Ohio; Washington; If you are in one of these states and believe you may have been discriminated against, contact your local JAG. Use the JAG Locator to find your local JAG Legal Assistance attorney.  "
      ]
     },
     "execution_count": 10,
     "metadata": {},
     "output_type": "execute_result"
    }
   ],
   "source": [
    "answer_df.head(1)"
   ]
  },
  {
   "cell_type": "markdown",
   "metadata": {},
   "source": [
    "### Create one data frame that contains just the content\n",
    "We will need one data frame to do our embedding. So we will concatenate our term and our answer data frames and limit them to just the content column.  \n",
    "Then we will add a \"tokens\" column that specifies how many tokens each text has."
   ]
  },
  {
   "cell_type": "code",
   "execution_count": 11,
   "metadata": {},
   "outputs": [],
   "source": [
    "# First save the original data frames in case we want to use \n",
    "# them as reference in the future\n",
    "term_save = \"../data/cfpb_key_terms.csv\"\n",
    "term_df.to_csv(term_save, index=False)\n",
    "\n",
    "answer_save = \"../data/cfpb_mortgage_questions.csv\"\n",
    "answer_df.index.name = \"page\"\n",
    "answer_df.to_csv(answer_save, index=True)"
   ]
  },
  {
   "cell_type": "code",
   "execution_count": 12,
   "metadata": {},
   "outputs": [],
   "source": [
    "# Concatenate the content columns\n",
    "df = pd.concat(\n",
    "    [term_df[[\"content\"]], answer_df[[\"content\"]]],\n",
    "    ignore_index=True\n",
    ")\n",
    "\n",
    "# Add a tokens counter column\n",
    "df[\"tokens\"] = df.content.apply(count_tokens)\n",
    "\n",
    "# Save to file\n",
    "save_name = \"../data/mortgage_context_text.csv\"\n",
    "df.to_csv(save_name, index=False)"
   ]
  },
  {
   "cell_type": "code",
   "execution_count": 13,
   "metadata": {},
   "outputs": [
    {
     "name": "stdout",
     "output_type": "stream",
     "text": [
      "Total of 371 records \n",
      "\n"
     ]
    },
    {
     "data": {
      "text/html": [
       "<div>\n",
       "<style scoped>\n",
       "    .dataframe tbody tr th:only-of-type {\n",
       "        vertical-align: middle;\n",
       "    }\n",
       "\n",
       "    .dataframe tbody tr th {\n",
       "        vertical-align: top;\n",
       "    }\n",
       "\n",
       "    .dataframe thead th {\n",
       "        text-align: right;\n",
       "    }\n",
       "</style>\n",
       "<table border=\"1\" class=\"dataframe\">\n",
       "  <thead>\n",
       "    <tr style=\"text-align: right;\">\n",
       "      <th></th>\n",
       "      <th>content</th>\n",
       "      <th>tokens</th>\n",
       "    </tr>\n",
       "  </thead>\n",
       "  <tbody>\n",
       "    <tr>\n",
       "      <th>152</th>\n",
       "      <td>When do I have to pay back a reverse mortgage loan? Reverse mortgage loans typically must be repaid either when you move out of the home or when you die. However, the loan may need to be paid back sooner if the home is no longer your principal residence, you fail to pay your property taxes or homeowners insurance, or do not keep the home in good repair. Most reverse mortgage loans are Home Equity Conversion Mortgages (HECMs). A HECM must be paid off when the last surviving borrower or Eligible Non-Borrowing Spouse: Dies; Sells their home, or; No longer lives in the home as their principal residence, meaning where they live for a majority of the year. If the you are away for more than 12 consecutive months in a healthcare facility such as a hospital, rehabilitation center, nursing home, or assisted living facility and there is no co-borrower living in the home, anyone living with you will have to move out unless they are able to pay back the loan or qualify as an Eligible Non-Borrowing Spouse. An \"Eligible Non-Borrowing Spouse\" is a term used for your spouse when they are not a co-borrower, but qualify under the U. S. Department of Housing and Urban Development's (HUD) rules to stay in your home after you have died. Learn more about what happens to your reverse mortgage after you die Learn more about reverse mortgages</td>\n",
       "      <td>294</td>\n",
       "    </tr>\n",
       "    <tr>\n",
       "      <th>37</th>\n",
       "      <td>The Federal Home Loan Mortgage Corporation (Freddie Mac) is a private corporation founded by Congress. Its mission is to promote stability and affordability in the housing market by purchasing mortgages from banks and other loan makers. The corporation is currently under conservatorship, under the direction of the Federal Housing Finance Agency (FHFA).</td>\n",
       "      <td>63</td>\n",
       "    </tr>\n",
       "  </tbody>\n",
       "</table>\n",
       "</div>"
      ],
      "text/plain": [
       "                                                                                                                                                                                                                                                                                                                                                                                                                                                                                                                                                                                                                                                                                                                                                                                                                                                                                                                                                                                                                                                                                                                                                                                                                                                                                                                                                                                        content  \\\n",
       "152  When do I have to pay back a reverse mortgage loan? Reverse mortgage loans typically must be repaid either when you move out of the home or when you die. However, the loan may need to be paid back sooner if the home is no longer your principal residence, you fail to pay your property taxes or homeowners insurance, or do not keep the home in good repair. Most reverse mortgage loans are Home Equity Conversion Mortgages (HECMs). A HECM must be paid off when the last surviving borrower or Eligible Non-Borrowing Spouse: Dies; Sells their home, or; No longer lives in the home as their principal residence, meaning where they live for a majority of the year. If the you are away for more than 12 consecutive months in a healthcare facility such as a hospital, rehabilitation center, nursing home, or assisted living facility and there is no co-borrower living in the home, anyone living with you will have to move out unless they are able to pay back the loan or qualify as an Eligible Non-Borrowing Spouse. An \"Eligible Non-Borrowing Spouse\" is a term used for your spouse when they are not a co-borrower, but qualify under the U. S. Department of Housing and Urban Development's (HUD) rules to stay in your home after you have died. Learn more about what happens to your reverse mortgage after you die Learn more about reverse mortgages   \n",
       "37                                                                                                                                                                                                                                                                                                                                                                                                                                                                                                                                                                                                                                                                                                                                                                                                                                                                                                                                                                                                                           The Federal Home Loan Mortgage Corporation (Freddie Mac) is a private corporation founded by Congress. Its mission is to promote stability and affordability in the housing market by purchasing mortgages from banks and other loan makers. The corporation is currently under conservatorship, under the direction of the Federal Housing Finance Agency (FHFA).   \n",
       "\n",
       "     tokens  \n",
       "152     294  \n",
       "37       63  "
      ]
     },
     "execution_count": 13,
     "metadata": {},
     "output_type": "execute_result"
    }
   ],
   "source": [
    "print(f\"Total of {len(df)} records \\n\")\n",
    "df.sample(n=2)"
   ]
  }
 ],
 "metadata": {
  "kernelspec": {
   "display_name": "Python 3",
   "language": "python",
   "name": "python3"
  },
  "language_info": {
   "codemirror_mode": {
    "name": "ipython",
    "version": 3
   },
   "file_extension": ".py",
   "mimetype": "text/x-python",
   "name": "python",
   "nbconvert_exporter": "python",
   "pygments_lexer": "ipython3",
   "version": "3.8.5"
  }
 },
 "nbformat": 4,
 "nbformat_minor": 4
}
