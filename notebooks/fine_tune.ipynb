{
 "cells": [
  {
   "cell_type": "markdown",
   "metadata": {},
   "source": [
    "# Model Fine Tuning\n",
    "---\n",
    "I think that GPT can generate the best description of what fine tuning is. Here is what it output when asked:  \n",
    "> Fine-tuning a GPT model means adjusting the model's parameters on a smaller dataset in order to adapt it to a specific task. The model is already pre-trained on a large dataset, but it may not be perfectly suited for the specific task it's being used for. Fine-tuning allows the model to learn additional information from a smaller dataset so that it can perform better on the specific task.  \n",
    ">\n",
    "> For example, imagine a GPT model was pre-trained on a large dataset of general text, such as Wikipedia articles. If you want to use this model for a specific task like language translation, you would fine-tune it on a smaller dataset of translated text. This would allow the model to learn additional information about how the languages relate to one another, and it would help the model translate more accurately.  \n",
    ">\n",
    "> In summary, fine-tuning is a way to adapt a pre-trained model to a specific task by training it further with a smaller dataset. This allows the model to improve its performance on the specific task.  \n",
    "\n",
    "So, in our case, we want to fine-tune our model on mortgage information to help a borrower complete a mortgage application.  "
   ]
  },
  {
   "cell_type": "code",
   "execution_count": 1,
   "metadata": {},
   "outputs": [],
   "source": [
    "# Imports\n",
    "import pandas as pd\n",
    "import numpy as np\n",
    "import openai\n",
    "import os\n",
    "import re\n",
    "import time\n",
    "import warnings\n",
    "from ipywidgets import widgets\n",
    "from numpy.random import Generator, PCG64\n",
    "\n",
    "warnings.filterwarnings(\"ignore\", message=\"Unverified HTTPS request is being made to host\")\n",
    "os.environ[\"CURL_CA_BUNDLE\"] = \"\"\n",
    "pd.set_option(\"display.max_colwidth\", None)\n",
    "rand = Generator(PCG64(seed=13))\n",
    "\n",
    "# You must have your own OpenAI api key and store it \n",
    "# as an environment variable on your computer\n",
    "openai.api_key = os.getenv(\"OPENAI_API_KEY\")"
   ]
  },
  {
   "cell_type": "markdown",
   "metadata": {},
   "source": [
    "## Creating the training data\n",
    "---\n",
    "We have chosen the Consumer Financial Protection Bureau as our fine-tuning data set. We scraped text from their website in the `scrape_cfpb_website` notebook. In the future, we'd want to augment this with additional information about American mortgages. Basically, the more data, the better.  \n",
    "\n",
    "When we create the training data, we need to format it as \"prompt\" (what the user would type in) and \"completion\" (what the model would return). Fortunately, the structure from the CFPB website is perfectly suited for this application as its articles are titled with questions. For its \"key terms,\" we create questions that ask what the term means. We randomly generate different forms of the question so that the model doesn't always expect a question in the exact same format (e.g., \"what is \\___?\").\n",
    "\n",
    "OpenAI's API expects the data in a very specific format. The question has to end with a \"prompt stop\" that tells the model that this is the end of the question. It has to be characters that aren't in any of the questions we are training on or likely to be in a user's question. We chose to use `\\nX0X\\n` as our stop. We also have to provide a \"completion stop\" that tells the model that it should stop answering the question. We chose `###` for our completion stop. Additionally, because of how tokenization works, all completions have to start with a whitespace.  \n",
    "\n",
    "Finally, the data has to be saved to a JSON lines file."
   ]
  },
  {
   "cell_type": "code",
   "execution_count": 2,
   "metadata": {},
   "outputs": [],
   "source": [
    "# Load CFPB Key Terms and Mortgage questions\n",
    "# as created in the scrape_cfpb_website notebook\n",
    "key_path = \"../data/cfpb_key_terms.csv\"\n",
    "key_df = pd.read_csv(key_path)\n",
    "\n",
    "question_path = \"../data/cfpb_mortgage_questions.csv\"\n",
    "quest_df = pd.read_csv(question_path)"
   ]
  },
  {
   "cell_type": "code",
   "execution_count": 3,
   "metadata": {},
   "outputs": [
    {
     "data": {
      "text/html": [
       "<div>\n",
       "<style scoped>\n",
       "    .dataframe tbody tr th:only-of-type {\n",
       "        vertical-align: middle;\n",
       "    }\n",
       "\n",
       "    .dataframe tbody tr th {\n",
       "        vertical-align: top;\n",
       "    }\n",
       "\n",
       "    .dataframe thead th {\n",
       "        text-align: right;\n",
       "    }\n",
       "</style>\n",
       "<table border=\"1\" class=\"dataframe\">\n",
       "  <thead>\n",
       "    <tr style=\"text-align: right;\">\n",
       "      <th></th>\n",
       "      <th>prompt</th>\n",
       "      <th>completion</th>\n",
       "    </tr>\n",
       "  </thead>\n",
       "  <tbody>\n",
       "    <tr>\n",
       "      <th>0</th>\n",
       "      <td>Define 5/1 adjustable rate mortgage\\nX0X\\n</td>\n",
       "      <td>A 5/1 adjustable rate mortgage (ARM) or 5-year ARM is a mortgage loan where \"5\" is the number of years your initial interest rate will stay fixed. The \"1\" represents how often your interest rate will adjust after the initial five-year period ends. The most common fixed periods are 3, 5, 7, and 10 years and \"1,\" is the most common adjustment period. It's important to carefully read the contract and ask questions if you're considering an ARM. ###</td>\n",
       "    </tr>\n",
       "    <tr>\n",
       "      <th>1</th>\n",
       "      <td>Define ability-to-repay rule\\nX0X\\n</td>\n",
       "      <td>The ability-to-repay rule is the reasonable and good faith determinationmost mortgage lenders are required to make that you are able to pay back the loan. ###</td>\n",
       "    </tr>\n",
       "  </tbody>\n",
       "</table>\n",
       "</div>"
      ],
      "text/plain": [
       "                                       prompt  \\\n",
       "0  Define 5/1 adjustable rate mortgage\\nX0X\\n   \n",
       "1         Define ability-to-repay rule\\nX0X\\n   \n",
       "\n",
       "                                                                                                                                                                                                                                                                                                                                                                                                                                                          completion  \n",
       "0   A 5/1 adjustable rate mortgage (ARM) or 5-year ARM is a mortgage loan where \"5\" is the number of years your initial interest rate will stay fixed. The \"1\" represents how often your interest rate will adjust after the initial five-year period ends. The most common fixed periods are 3, 5, 7, and 10 years and \"1,\" is the most common adjustment period. It's important to carefully read the contract and ask questions if you're considering an ARM. ###  \n",
       "1                                                                                                                                                                                                                                                                                                     The ability-to-repay rule is the reasonable and good faith determinationmost mortgage lenders are required to make that you are able to pay back the loan. ###  "
      ]
     },
     "execution_count": 3,
     "metadata": {},
     "output_type": "execute_result"
    }
   ],
   "source": [
    "# Prepare and merge the 2 data sets\n",
    "prompt_stop = \"\\nX0X\\n\"\n",
    "completion_stop = \"###\"\n",
    "\n",
    "def term_case(term):\n",
    "    \"\"\"\n",
    "    Make a term lower case except where it is an acronym\n",
    "    \"\"\"\n",
    "    s = re.split(r\"(\\s|-)\", term, maxsplit=1)\n",
    "    \n",
    "    if len(s) == 1 and len(s[0]) <= 4:\n",
    "        return term.upper()\n",
    "    elif len(s[0]) == 3:\n",
    "        return s[0].upper() + \"\".join(s[1:]).lower()\n",
    "    upper = lambda s: s.group(1).upper()\n",
    "    return re.sub(r\"(\\([a-z]+\\))\", upper, term.lower())\n",
    "\n",
    "def a_an(word):\n",
    "    \"\"\" \n",
    "    Decide if the preceding article should be a or an. \n",
    "    \"\"\"\n",
    "    vowels = [\"a\", \"e\", \"i\", \"o\", \"u\", \n",
    "              \"A\", \"E\", \"I\", \"O\", \"U\"\n",
    "              \"ho\", \"Ho\", \"8\", \"11\", \"18\"]\n",
    "    if any([word.startswith(v) for v in vowels]):\n",
    "        return \"an\"\n",
    "    return \"a\"\n",
    "\n",
    "def create_key_question(term):\n",
    "    \"\"\"\n",
    "    Make a question out of the 'key term'. Randomly\n",
    "    vary the format of the question so the model gets\n",
    "    some variety.\n",
    "    \"\"\"\n",
    "    term = term_case(term)\n",
    "    n = rand.random()\n",
    "    \n",
    "    # Plural terms\n",
    "    if term.endswith(\"s\"):\n",
    "        if n > 0.5:\n",
    "            return f\"What are {term}?\"\n",
    "        return f\"Can you explain {term}?\"\n",
    "    # Singular terms\n",
    "    if n < 0.25:\n",
    "        return f\"What is {a_an(term)} {term}?\"\n",
    "    elif n < 0.5:\n",
    "        return f\"What does {term} mean?\"\n",
    "    elif n < 0.75:\n",
    "        return f\"Explain {term}.\"\n",
    "    return f\"Define {term}\"\n",
    "\n",
    "def make_answer(row):\n",
    "    \"\"\"\n",
    "    Remove the question from the content column.\n",
    "    The content column already has broken up answers\n",
    "    that are too long into multiple entries.\n",
    "    \"\"\"\n",
    "    return row.content.replace(row.question, \"\")\n",
    "    \n",
    "\n",
    "df = pd.DataFrame({\n",
    "    \"prompt\": pd.concat([\n",
    "        key_df.term.apply(create_key_question),\n",
    "        quest_df.question\n",
    "    ]) + prompt_stop,\n",
    "    \"completion\": \" \" + pd.concat([\n",
    "        key_df.definition,\n",
    "        quest_df.apply(make_answer, axis=1)\n",
    "    ]) + completion_stop\n",
    "}).reset_index(drop=True)\n",
    "\n",
    "df.head(2)"
   ]
  },
  {
   "cell_type": "code",
   "execution_count": 4,
   "metadata": {},
   "outputs": [],
   "source": [
    "# Save to a json lines file\n",
    "fpath = \"../data/fine_tune_data.jsonl\"\n",
    "df.to_json(fpath, orient=\"records\", lines=True)"
   ]
  },
  {
   "cell_type": "markdown",
   "metadata": {},
   "source": [
    "### Double check data formatting\n",
    "---\n",
    "OpenAI's provides a command line interface data preparation tool to ensure that the data is properly formatted.   \n",
    "From your terminal, use `cd` to navigate to the directory where your data is \n",
    "located. Then run the following command and respond to any follow up prompts.\n",
    "```\n",
    "openai tools fine_tunes.prepare_data -f fine_tune_data.jsonl\n",
    "```"
   ]
  },
  {
   "cell_type": "markdown",
   "metadata": {},
   "source": [
    "### Upload file\n",
    "---\n",
    "Once your data is properly formatted, you have to upload your file to OpenAI's server. There\n",
    "are various ways to do this (as shown in the [documentation](https://beta.openai.com/docs/api-reference/files/upload)), but we are going to use the python implementation below.  \n",
    "The response will contain the uploaded file's ID, which we will need when training."
   ]
  },
  {
   "cell_type": "code",
   "execution_count": 5,
   "metadata": {},
   "outputs": [
    {
     "name": "stdout",
     "output_type": "stream",
     "text": [
      "Uploaded file ID: file-kgAo80TwjAYP77Pt6wgxk9lH\n"
     ]
    }
   ],
   "source": [
    "# Upload data for fine tuning\n",
    "upload_response = openai.File.create(\n",
    "  file=open(fpath, \"rb\"),\n",
    "  purpose=\"fine-tune\"\n",
    ")\n",
    "file_id = upload_response[\"id\"]\n",
    "print(\"Uploaded file ID:\", file_id)"
   ]
  },
  {
   "cell_type": "markdown",
   "metadata": {},
   "source": [
    "---\n",
    "### Fine tune the model\n",
    "Finally, it's time to actually fine tune your model.  \n",
    "\n",
    "You can pick between the 4 model types: ada, babbage, curie, davinci. Ada is the fastest and cheapest and davinci is the slowest and most expensive. For\n",
    "most tasks, Curie will be sufficient. You can check pricing [here](https://openai.com/api/pricing/#faq-fine-tuning-pricing-calculation).   \n",
    "\n",
    "We will use the following arguments:  \n",
    "- `training_file = file_id`: the ID of the training data file we uploaded previously.\n",
    "- `model = \"curie\"`: Curie almost always has great performance with low latency. For a more advanced yet expensive model, use \"davinci\"\n",
    "- `n_epochs = 3`: the numer of times the model goes through the data. More times will make the model \"memorize\" your data (which isn't good). This is directly related to the cost.\n",
    "- `suffix = \"mortybot_chatbot\"`: this lets us have a custom name for our model.  \n",
    "\n",
    "While our data set is not large and thus the model will not take too long to fine tune (five-ish minutes), the wait is determined by other jobs in the system's queue. It could be hours or it could be only a few minutes."
   ]
  },
  {
   "cell_type": "code",
   "execution_count": 6,
   "metadata": {},
   "outputs": [
    {
     "name": "stdout",
     "output_type": "stream",
     "text": [
      "Kicked off at 11:17 AM\n",
      "\n",
      "Training run ID: ft-Xof8qaRPtmUXo0I9NPJpiN1B\n",
      "Model name: curie:ft-hannah:mortybot-chatbot-2023-01-30-18-29-25\n",
      "\n",
      "Fine-tune costs $0.81\n",
      "Queue time: 65.87 minutes\n",
      "Train time: 6.00 minutes\n"
     ]
    }
   ],
   "source": [
    "# Run fine tuning\n",
    "MODEL = \"curie\"\n",
    "EPOCHS = 3\n",
    "\n",
    "print(f\"Kicked off at {pd.to_datetime('today').strftime('%I:%M %p', )}\\n\")\n",
    "train_response = openai.FineTune.create(\n",
    "    training_file=file_id,\n",
    "    model=MODEL,\n",
    "    n_epochs=EPOCHS,\n",
    "    suffix=\"mortybot_chatbot\"\n",
    ")\n",
    "train_id = train_response[\"id\"]\n",
    "print(\"Training run ID:\", train_id)\n",
    "\n",
    "# Check in one minute intervals if model is done training\n",
    "t0 = time.time()\n",
    "while True:\n",
    "    train_info = openai.FineTune.retrieve(train_id)\n",
    "    if train_info[\"status\"] == \"succeeded\":\n",
    "        model_name = train_info[\"fine_tuned_model\"]\n",
    "        break\n",
    "    else:\n",
    "        time.sleep(60)\n",
    "print(f\"Model name: {model_name}\\n\")\n",
    "\n",
    "# Print out training run information\n",
    "events = {e[\"message\"]: e for e in train_info[\"events\"]}\n",
    "cost = [e for e in events if e.startswith(\"Fine-tune costs\")][0]\n",
    "print(cost)\n",
    "\n",
    "t0 = events[f\"Created fine-tune: {train_id}\"][\"created_at\"]\n",
    "t1 = events[\"Fine-tune started\"][\"created_at\"]\n",
    "t2 = events[\"Fine-tune succeeded\"][\"created_at\"]\n",
    "print(f\"Queue time: {(t1 - t0) / 60:.2f} minutes\")\n",
    "print(f\"Train time: {(t2 - t1) / 60:.2f} minutes\")"
   ]
  },
  {
   "cell_type": "markdown",
   "metadata": {},
   "source": [
    "### Using the fine tuned model\n",
    "---\n",
    "There are many ways to make requests to our model, but for now we're going to call it in python from this notebook. In practice, it will be integrated into your application.  \n",
    "When we make a request for a completion, we have to make sure that we add on the prompt\n",
    "stop token that we added to our training set above. Otherwise, the model will be \n",
    "confused.  \n",
    "\n",
    "We will set the following arguments: \n",
    "- `model = model_id`: our fine-tuned model ID from above\n",
    "- `max_tokens = 150`: the maximum numner of tokens to generate in the completion (more tokens is more expensive)\n",
    "- `temperature = 0`: we don't want the model to get 'creative' with its answers\n",
    "- `frequency_penalty = 2`: curb its desire to repeat sentences\n",
    "- `presence_penalty = -1`: keep the answer on topic\n",
    "- `best_of = 3`: get the best answer out of 3 tries\n",
    "- `stop = completion_stop`: the stop sequence we put in our training data so that it knows when to stop generating a response (could be shorter than max_tokens)\n",
    "\n",
    "For whatever reason, it sometimes makes up contact information. Since we don't want to mislead consumers, we are going to remove it."
   ]
  },
  {
   "cell_type": "code",
   "execution_count": 7,
   "metadata": {},
   "outputs": [],
   "source": [
    "def ask_mortybot(question, model):\n",
    "    \"\"\"\n",
    "    Makes a request to our fine tuned model to \n",
    "    answer a question.\n",
    "    \"\"\"\n",
    "    MAX_TOKENS = 175\n",
    "    TEMPERATURE = 0\n",
    "    FREQ_PENALTY = 2\n",
    "    PRES_PENALTY = -1\n",
    "    BEST_OF = 3\n",
    "    \n",
    "    response = openai.Completion.create(\n",
    "        model=model,\n",
    "        prompt=question + prompt_stop,\n",
    "        max_tokens=MAX_TOKENS,\n",
    "        temperature=TEMPERATURE,\n",
    "        frequency_penalty=FREQ_PENALTY,\n",
    "        presence_penalty=PRES_PENALTY,\n",
    "        best_of=BEST_OF,\n",
    "        stop=completion_stop\n",
    "    )\n",
    "    answer = response[\"choices\"][0][\"text\"].strip()\n",
    "    \n",
    "    # Remove possibly fake contact info\n",
    "    phone_pattern = (\n",
    "        r\"(at )??(1\\s+)??\\(??[0-9]{3}\\)??\\s+[0-9A-Z]{3}[-\\s]+[0-9A-Z]{4}\\s+\"\n",
    "        r\"(\\([0-9]{4}\\))?\"\n",
    "    )\n",
    "    email_pattern = r\"(at )??([a-zA-Z0-9\\.]+)@([a-zA-Z0-9]+)\\.([a-zA-Z]+)\"\n",
    "    answer = re.sub(phone_pattern, \"\", answer)\n",
    "    answer = re.sub(email_pattern, \"\", answer)\n",
    "    \n",
    "    # Cut answer at last full sentence\n",
    "    answer = \"\".join(\n",
    "        re.split(r\"(\\.|\\\"\\.|\\!)\", answer[::-1], maxsplit=1)[1:])[::-1]\n",
    "    return answer"
   ]
  },
  {
   "cell_type": "code",
   "execution_count": 10,
   "metadata": {},
   "outputs": [
    {
     "data": {
      "application/vnd.jupyter.widget-view+json": {
       "model_id": "8c7ae031c6db48e18bcba7a860a9486c",
       "version_major": 2,
       "version_minor": 0
      },
      "text/plain": [
       "Text(value='', placeholder='Ask a mortgage question')"
      ]
     },
     "metadata": {},
     "output_type": "display_data"
    },
    {
     "data": {
      "application/vnd.jupyter.widget-view+json": {
       "model_id": "790f29e970a94ef5b43d74558874baa6",
       "version_major": 2,
       "version_minor": 0
      },
      "text/plain": [
       "Output()"
      ]
     },
     "metadata": {},
     "output_type": "display_data"
    }
   ],
   "source": [
    "# Ask a question and print the answer\n",
    "Q = widgets.Text(placeholder=\"Ask a mortgage question\")\n",
    "output = widgets.Output()\n",
    "def print_my_question(q):\n",
    "    with output:\n",
    "        A = ask_mortybot(q.value, model_name)\n",
    "        print(f\"Question:\\n{q.value}\\nAnswer:\\n{A}\\n\")\n",
    "\n",
    "display(Q, output)\n",
    "Q.on_submit(print_my_question)"
   ]
  },
  {
   "cell_type": "markdown",
   "metadata": {},
   "source": [
    "### Sample answers\n",
    "---\n",
    "**What does LTV stand for?**  \n",
    ">Loan to value (LTV) is the amount of your mortgage loan compared to the property value.\n",
    "\n",
    "<br></br>\n",
    "\n",
    "**Can you explain the difference between a conforming and non-conforming loan?**  \n",
    ">A conforming loan is one that meets the requirements of the relevant federal housing program. The programs have different rules and requirements, but generally a loan that is a conforming loan will be eligible for special benefits such as lower interest rates and other benefits.  A non-conforming mortgage may or may not meet all of the rules for a particular program, but it does not qualify as a conforming mortgage under any federal housing program.\n",
    "\n",
    "<br></br>\n",
    "\n",
    "**How long does the application process take?**  \n",
    ">The application process for a mortgage takes about three business days. You can start the application process online or by calling. If you call, you may be able to speak with a lender or broker to get more information about loan products and services."
   ]
  },
  {
   "cell_type": "code",
   "execution_count": null,
   "metadata": {},
   "outputs": [],
   "source": []
  }
 ],
 "metadata": {
  "kernelspec": {
   "display_name": "Python 3",
   "language": "python",
   "name": "python3"
  },
  "language_info": {
   "codemirror_mode": {
    "name": "ipython",
    "version": 3
   },
   "file_extension": ".py",
   "mimetype": "text/x-python",
   "name": "python",
   "nbconvert_exporter": "python",
   "pygments_lexer": "ipython3",
   "version": "3.8.5"
  },
  "vscode": {
   "interpreter": {
    "hash": "49cb93f377a7abe7414b7b0f21fb3017538004a126cf690fb524202736b7fb92"
   }
  },
  "widgets": {
   "application/vnd.jupyter.widget-state+json": {
    "state": {
     "0553c60bdfea4c7aae7b539063e07c21": {
      "model_module": "@jupyter-widgets/base",
      "model_module_version": "1.2.0",
      "model_name": "LayoutModel",
      "state": {}
     },
     "094f078571bc402792f95abc843c5e1e": {
      "model_module": "@jupyter-widgets/controls",
      "model_module_version": "1.5.0",
      "model_name": "TextModel",
      "state": {
       "layout": "IPY_MODEL_c9c257f6be4343c4ab045ae0d5d1dc52",
       "placeholder": "Ask a mortgage question",
       "style": "IPY_MODEL_7e5bdb0fc1c941ed81e560c148b908ac",
       "value": "What does LTV stand for?"
      }
     },
     "0b364bf6ad5a4c1dbb44d6df28261298": {
      "model_module": "@jupyter-widgets/controls",
      "model_module_version": "1.5.0",
      "model_name": "DescriptionStyleModel",
      "state": {
       "description_width": ""
      }
     },
     "0baeb52ddd5a4f03aed992434b036d88": {
      "model_module": "@jupyter-widgets/controls",
      "model_module_version": "1.5.0",
      "model_name": "TextModel",
      "state": {
       "layout": "IPY_MODEL_7a0c51a97dc8413eb981002de1264b78",
       "placeholder": "Ask a mortgage question",
       "style": "IPY_MODEL_7ffddf547a44465d8d811432c1ccfcbb",
       "value": "What does LTV stand for?"
      }
     },
     "0c3996274d3e442098d91cd449294c21": {
      "model_module": "@jupyter-widgets/output",
      "model_module_version": "1.0.0",
      "model_name": "OutputModel",
      "state": {
       "layout": "IPY_MODEL_b3b5ca0fca2044988513ff97425686e6",
       "outputs": [
        {
         "name": "stdout",
         "output_type": "stream",
         "text": "Question:\nWhat does LTV stand for?\nAnswer:\nLTV is an abbreviation for Loan-to-Value.\n\nQuestion:\nWhy is my lender requiring a house appraisal?\nAnswer:\nA lender may require an appraisal if the property is worth more than the amount you are borrowing. An appraisal is a professional opinion about the value of your property. An appraisal can help lenders determine if your loan application is likely to be approved. Appraisals are usually required when a loan amount exceeds a certain percentage of the home's value, such as 80 percent or 90 percent. If you have an issue with your mortgage, you should discuss it with your lender as soon as possible. You can also submit a complaint to the CFPB online or by calling.\n\nQuestion:\nWhat are the qualifications for a VA loan?\nAnswer:\nThe Department of Veterans Affairs (VA) guarantees the loans. The VA has a number of rules that must be followed when taking out a VA loan. These rules include: You must be a veteran or have been discharged under honorable conditions from active duty in the U. S. Armed Forces, and have served at least 90 days on active duty or been discharged due to a service-connected disability; You must be using the home as your principal residence; You cannot use the home as collateral for another loan; If you are using the home as your principal residence, you cannot use it for any purpose other than as your principal residence (for example, you can't rent it out); If you are using the home as your principal residence, you cannot use it for any purpose other than as your principal residence (for example, you can't rent it out); If there is more than one borrower on a mortgage application and one borrower is eligible for benefits under Chapter 33 of title 38 U. S. Code (known as \"GI Bill\" benefits), then all borrowers on that application are eligible for those benefits;\n\n"
        }
       ]
      }
     },
     "0c730e2a79a74012a8b4b35c32f67a22": {
      "model_module": "@jupyter-widgets/base",
      "model_module_version": "1.2.0",
      "model_name": "LayoutModel",
      "state": {}
     },
     "16bf0b67f14049fab7cab65d2eeefc5c": {
      "model_module": "@jupyter-widgets/controls",
      "model_module_version": "1.5.0",
      "model_name": "DescriptionStyleModel",
      "state": {
       "description_width": ""
      }
     },
     "17efad1c8d9045949f85d0f61c6cec32": {
      "model_module": "@jupyter-widgets/controls",
      "model_module_version": "1.5.0",
      "model_name": "DescriptionStyleModel",
      "state": {
       "description_width": ""
      }
     },
     "18d9938ac683486bb87584db10a79449": {
      "model_module": "@jupyter-widgets/controls",
      "model_module_version": "1.5.0",
      "model_name": "TextModel",
      "state": {
       "layout": "IPY_MODEL_649132030e8e477f8af7c3267cfdf2c8",
       "placeholder": "Ask a mortgage question",
       "style": "IPY_MODEL_d160eb7de8e342c6a7c3db8bc25d75b7",
       "value": "What does LTV stand for?"
      }
     },
     "1b522d61e2264ce5bed14235a049f8cb": {
      "model_module": "@jupyter-widgets/base",
      "model_module_version": "1.2.0",
      "model_name": "LayoutModel",
      "state": {}
     },
     "1ce754d400fa4dcca513decaa4842328": {
      "model_module": "@jupyter-widgets/output",
      "model_module_version": "1.0.0",
      "model_name": "OutputModel",
      "state": {
       "layout": "IPY_MODEL_cfdaa6ba78954ab88578f43eeeded3f8",
       "outputs": [
        {
         "name": "stdout",
         "output_type": "stream",
         "text": "What does LTV stand for? \n\nLTV stands for Loan to Value. LTV is the amount of your mortgage loan compared to the value of your home.\nQuestion:\nWhat does LTV stand for?\nAnswer:\n{\n  \"choices\": [\n    {\n      \"finish_reason\": \"stop\",\n      \"index\": 0,\n      \"logprobs\": null,\n      \"text\": \" LTV stands for Loan to Value. LTV is the amount of your mortgage loan compared to the value of your home. \"\n    }\n  ],\n  \"created\": 1674862334,\n  \"id\": \"cmpl-6dSUYFOb8ppnFOS1EREMi8K1zWLA8\",\n  \"model\": \"curie:ft-hannah:mortybot-chatbot-2023-01-27-21-52-11\",\n  \"object\": \"text_completion\",\n  \"usage\": {\n    \"completion_tokens\": 26,\n    \"prompt_tokens\": 11,\n    \"total_tokens\": 37\n  }\n}\n\n"
        }
       ]
      }
     },
     "1cf62f610d9f49679c874420206f3817": {
      "model_module": "@jupyter-widgets/output",
      "model_module_version": "1.0.0",
      "model_name": "OutputModel",
      "state": {
       "layout": "IPY_MODEL_0c730e2a79a74012a8b4b35c32f67a22",
       "outputs": [
        {
         "name": "stdout",
         "output_type": "stream",
         "text": "Question:\nwhat's the difference between a conventional and an fha loan?\nAnswer:\nA Federal Housing Administration (FHA) loan is a type of conventional loan that has some special features. Like a conventional loan, an FHA loan generally requires a down payment and offers the borrower more flexibility in how the money is used. Unlike most conventional loans, however, an FHA mortgage may be available to borrowers who do not have good credit or enough cash for a 20 percent down payment. The FHA does not require that you have good credit to qualify for an FHA mortgage. However, if you do not have good credit or enough cash for 20 percent down payment on your home purchase, it may be difficult to get approved by most lenders and find someone willing to purchase your home with only 10 percent of its value as collateral (\n\n"
        }
       ]
      }
     },
     "1cf8531d00334790964606b1782366ad": {
      "model_module": "@jupyter-widgets/controls",
      "model_module_version": "1.5.0",
      "model_name": "TextModel",
      "state": {
       "layout": "IPY_MODEL_3d2238e9c35645569385924b475f8db2",
       "placeholder": "Ask a mortgage question",
       "style": "IPY_MODEL_342e7218a5bf40d7af788134aaa0acdf",
       "value": "What are the qualifications for a VA loan?"
      }
     },
     "2aee5b0016c3468ab309a30a9f312fff": {
      "model_module": "@jupyter-widgets/controls",
      "model_module_version": "1.5.0",
      "model_name": "TextModel",
      "state": {
       "layout": "IPY_MODEL_4ee56552d07e47f3a84bdbbbab12a1b7",
       "placeholder": "Ask a mortgage question",
       "style": "IPY_MODEL_e07b277efffb4c0eb5f65e6c8816c867",
       "value": "What's the difference between a conventional and FHA loan?"
      }
     },
     "2e9cfb5d5e6d40b2a3eb746a41eeebf9": {
      "model_module": "@jupyter-widgets/controls",
      "model_module_version": "1.5.0",
      "model_name": "TextModel",
      "state": {
       "layout": "IPY_MODEL_cd1e77372083420b889d4c71dd609724",
       "placeholder": "Ask a mortgage question",
       "style": "IPY_MODEL_65a5fc81e96e4d2daba6776f6e3f0f1e",
       "value": "What's the difference between a conventional and FHA loan?"
      }
     },
     "2fb4ad9dff624038a2e41ade9a6d5686": {
      "model_module": "@jupyter-widgets/base",
      "model_module_version": "1.2.0",
      "model_name": "LayoutModel",
      "state": {}
     },
     "342e7218a5bf40d7af788134aaa0acdf": {
      "model_module": "@jupyter-widgets/controls",
      "model_module_version": "1.5.0",
      "model_name": "DescriptionStyleModel",
      "state": {
       "description_width": ""
      }
     },
     "38fe2929d6ea42a783222a93eb787e1e": {
      "model_module": "@jupyter-widgets/base",
      "model_module_version": "1.2.0",
      "model_name": "LayoutModel",
      "state": {}
     },
     "3d2238e9c35645569385924b475f8db2": {
      "model_module": "@jupyter-widgets/base",
      "model_module_version": "1.2.0",
      "model_name": "LayoutModel",
      "state": {}
     },
     "4a6d61a08b8744daa5def2c9e33f2e21": {
      "model_module": "@jupyter-widgets/output",
      "model_module_version": "1.0.0",
      "model_name": "OutputModel",
      "state": {
       "layout": "IPY_MODEL_1b522d61e2264ce5bed14235a049f8cb",
       "outputs": [
        {
         "name": "stdout",
         "output_type": "stream",
         "text": "What does LTV stand for? \n\nQuestion:\nWhat does LTV stand for?\nAnswer:\nLTV stands for Loan to Value. LTV is the amount of your mortgage loan compared to the value of your home.\n\n"
        }
       ]
      }
     },
     "4e35018ea50f4885b0481ec8547a05a8": {
      "model_module": "@jupyter-widgets/controls",
      "model_module_version": "1.5.0",
      "model_name": "TextModel",
      "state": {
       "layout": "IPY_MODEL_5f7d735625924c6a92a6f96d160be5aa",
       "placeholder": "Ask a mortgage question",
       "style": "IPY_MODEL_c41d6b58386d438894e9c3648b03d026",
       "value": "What does LTV stand for?"
      }
     },
     "4ee56552d07e47f3a84bdbbbab12a1b7": {
      "model_module": "@jupyter-widgets/base",
      "model_module_version": "1.2.0",
      "model_name": "LayoutModel",
      "state": {}
     },
     "4f7366b5a023458ab6d664ab19627a1a": {
      "model_module": "@jupyter-widgets/output",
      "model_module_version": "1.0.0",
      "model_name": "OutputModel",
      "state": {
       "layout": "IPY_MODEL_cf0f6cc3bfb8483d9c196018fce2647c",
       "outputs": [
        {
         "name": "stdout",
         "output_type": "stream",
         "text": "Question:\nWhat does LTV stand for?\nAnswer:\nLTV is an abbreviation for Loan-to-Value.\n\nQuestion:\nWhy is my lender requiring a house appraisal?\nAnswer:\nA lender may require an appraisal if the property is worth more than the amount you are borrowing. An appraisal is a professional opinion about the value of your property. Appraisals are usually required when your loan amount is more than your home's appraised value. If you have a problem with your mortgage, you can submit a complaint to the CFPB online or by calling.\n\nQuestion:\nWhat are the qualifications for a VA loan?\nAnswer:\nThe Department of Veterans Affairs (VA) guarantees the loans.  To be eligible for a VA loan, you must have served in the U. S. military during a war or other emergency, or have been discharged under honorable conditions for service-connected disability and be at least 90 days past your last day of active duty service or within 90 days of discharge from active duty service. If you are married to someone who is also eligible for a VA loan, you may also qualify if either spouse has served in the U. S. military during wartime or has been discharged under honorable conditions for wartime service and is at least 90 days past their last day of active duty service or within 90 days of discharge from active duty service; You must not owe more on your home than what it would cost to build a new one; You cannot have received any other federal assistance program (such as FHA, USDA Rural Development, etc.) within 12 months before applying; You cannot owe more than $50,000 on your mortgage; If you are having trouble making payments on your mortgage because of unemployment benefits that were paid by an employer after you left the military but before receiving an official separation document from the Department of Defense (DOD), contact us to learn about\n\n"
        }
       ]
      }
     },
     "5bdea8d1d5384db998820f5fad616e6b": {
      "model_module": "@jupyter-widgets/output",
      "model_module_version": "1.0.0",
      "model_name": "OutputModel",
      "state": {
       "layout": "IPY_MODEL_ebffa4bf2d4847d2bf97af1d2192f1ce",
       "outputs": [
        {
         "name": "stdout",
         "output_type": "stream",
         "text": "Question:\nWhat are the qualifications for a VA loan?\nAnswer:\nThe Department of Veterans Affairs (VA) guarantees the loans.  To be eligible for a VA loan, you must have served in the U. S. military during a war or other emergency, or have been discharged under honorable conditions for service-connected disability and be at least 90 days past your last day of active duty service or within 90 days of discharge from active duty service and: Be a veteran; Have an eligible servicemember spouse; Be unemployed and actively seeking employment through the VA's VetSuccess program; Not be in default on any other mortgage loan secured by real estate as well as having no existing mortgages that are not insured by the Federal Housing Administration (FHA), which is part of the Department of Housing and Urban Development (HUD). If you are married to someone who is also covered by this policy, both spouses must meet these requirements to qualify for this benefit.\n\nQuestion:\nWhat's the difference between a conventional and FHA loan?\nAnswer:\nA conventional loan is usually a loan that you will have to pay back with interest, but it has lower down payments and lower fees than an FHA loan.  If you are interested in getting a mortgage, it's a good idea to shop around for the best deal. You can do this by comparing rates and fees from several lenders or by shopping for the best deal on an adjustable-rate mortgage (ARM). To get multiple quotes, use our homebuying tool. Tip: Use our checklist for more information on how to shop for a mortgage.\n\n"
        }
       ]
      }
     },
     "5f7d735625924c6a92a6f96d160be5aa": {
      "model_module": "@jupyter-widgets/base",
      "model_module_version": "1.2.0",
      "model_name": "LayoutModel",
      "state": {}
     },
     "649132030e8e477f8af7c3267cfdf2c8": {
      "model_module": "@jupyter-widgets/base",
      "model_module_version": "1.2.0",
      "model_name": "LayoutModel",
      "state": {}
     },
     "65a5fc81e96e4d2daba6776f6e3f0f1e": {
      "model_module": "@jupyter-widgets/controls",
      "model_module_version": "1.5.0",
      "model_name": "DescriptionStyleModel",
      "state": {
       "description_width": ""
      }
     },
     "6bb59fd027c64a9c96ce5549a5ed0d73": {
      "model_module": "@jupyter-widgets/base",
      "model_module_version": "1.2.0",
      "model_name": "LayoutModel",
      "state": {}
     },
     "6e715e622ac442de96a8a258abc4affa": {
      "model_module": "@jupyter-widgets/base",
      "model_module_version": "1.2.0",
      "model_name": "LayoutModel",
      "state": {}
     },
     "7153444d2afc4b0cb25e1366a118fa58": {
      "model_module": "@jupyter-widgets/base",
      "model_module_version": "1.2.0",
      "model_name": "LayoutModel",
      "state": {}
     },
     "739205763da849c38a3773669b72e98c": {
      "model_module": "@jupyter-widgets/controls",
      "model_module_version": "1.5.0",
      "model_name": "DescriptionStyleModel",
      "state": {
       "description_width": ""
      }
     },
     "789aab4d2efe4a6288605c4eb775311e": {
      "model_module": "@jupyter-widgets/output",
      "model_module_version": "1.0.0",
      "model_name": "OutputModel",
      "state": {
       "layout": "IPY_MODEL_89fff6a27b53467cad5bbf4b2456bf8f",
       "outputs": [
        {
         "name": "stdout",
         "output_type": "stream",
         "text": "Question:\nWhat's the difference between a conventional and FHA loan?\nAnswer:\nA conventional loan is usually a loan that you will have to pay back with interest, but it is not insured by the Federal Housing Administration (FHA). FHA loans are insured by the Federal Housing Administration (FHA), which insures most conventional loans. FHA loans are generally more affordable than conventional loans. However, they do require a down payment and may have higher interest rates than other types of mortgages. If you're interested in getting an FHA loan, it's important to shop around and compare rates before choosing an lender or mortgage broker. You can also learn more about how to shop for an FHAservice guide for finding a lender or broker who offers this type of mortgage loan\n\nQuestion:\nWhat's the difference between a conventional and FHA loan?\nAnswer:\nA conventional loan is usually a loan that you will have to pay back with interest, but it is not insured by the Federal Housing Administration (FHA). FHA loans are insured by the Federal Housing Administration (FHA), which insures most conventional loans. If you are interested in a FHA loan, be sure to shop around and compare rates.\n\n"
        }
       ]
      }
     },
     "790f29e970a94ef5b43d74558874baa6": {
      "model_module": "@jupyter-widgets/output",
      "model_module_version": "1.0.0",
      "model_name": "OutputModel",
      "state": {
       "layout": "IPY_MODEL_6e715e622ac442de96a8a258abc4affa",
       "outputs": [
        {
         "name": "stdout",
         "output_type": "stream",
         "text": "Question:\nWhat does LTV stand for?\nAnswer:\nLoan to value (LTV) is the amount of your mortgage loan compared to the property value.\n\nQuestion:\nCan you explain the difference between a conforming and non-conforming loan?\nAnswer:\nA conforming loan is one that meets the requirements of the relevant federal housing program. The programs have different rules and requirements, but generally a loan that is a conforming loan will be eligible for special benefits such as lower interest rates and other benefits.  A non-conforming mortgage may or may not meet all of the rules for a particular program, but it does not qualify as a conforming mortgage under any federal housing program.\n\nQuestion:\nHow long does the application process take?\nAnswer:\nThe application process for a mortgage takes about three business days. You can start the application process online or by calling. If you call, you may be able to speak with a lender or broker to get more information about loan products and services.\n\n"
        }
       ]
      }
     },
     "7a0c51a97dc8413eb981002de1264b78": {
      "model_module": "@jupyter-widgets/base",
      "model_module_version": "1.2.0",
      "model_name": "LayoutModel",
      "state": {}
     },
     "7c839dac0ee649b8a3bb9e19f544a994": {
      "model_module": "@jupyter-widgets/output",
      "model_module_version": "1.0.0",
      "model_name": "OutputModel",
      "state": {
       "layout": "IPY_MODEL_8e2511b9942e43588ddee82bfbe4d88a",
       "outputs": [
        {
         "name": "stdout",
         "output_type": "stream",
         "text": "Question:\nWhat does LTV stand for?\nAnswer:\nLTV stands for Loan-to-Value. LTV is the amount of your mortgage loan that is financed by the home's value, as opposed to other types of loans.\n\n"
        }
       ]
      }
     },
     "7e5bdb0fc1c941ed81e560c148b908ac": {
      "model_module": "@jupyter-widgets/controls",
      "model_module_version": "1.5.0",
      "model_name": "DescriptionStyleModel",
      "state": {
       "description_width": ""
      }
     },
     "7ffddf547a44465d8d811432c1ccfcbb": {
      "model_module": "@jupyter-widgets/controls",
      "model_module_version": "1.5.0",
      "model_name": "DescriptionStyleModel",
      "state": {
       "description_width": ""
      }
     },
     "8755527ddc764332bc81b61e918a84b0": {
      "model_module": "@jupyter-widgets/output",
      "model_module_version": "1.0.0",
      "model_name": "OutputModel",
      "state": {
       "layout": "IPY_MODEL_0553c60bdfea4c7aae7b539063e07c21",
       "outputs": [
        {
         "name": "stdout",
         "output_type": "stream",
         "text": "Question:\nWhat does LTV stand for?\nAnswer:\nLTV stands for Loan-to-Value. LTV is the amount of your mortgage loan that is greater than or equal to the appraised value of your home.\n\nQuestion:\nWhy is my lender requiring a house appraisal?\nAnswer:\nA lender may require a house appraisal if you are applying for a mortgage loan. The appraisal is used to determine the value of your home and whether you qualify for the loan. If you have questions about an appraisal, contact your lender or real estate agent.\n\nQuestion:\nWhere do I find my W-2?\nAnswer:\nYour W-2 is the form that you receive from your employer each year. It shows how much you earned and how much tax was withheld from your pay. You can also get a copy of your W-2 by calling the IRS or visiting an IRS service center. If you have a problem with your W-2, call the IRS right away to report it.\n\nQuestion:\nWhat are the qualifications for a VA loan?\nAnswer:\nTo qualify for a VA loan, you must be a veteran or have certain service-connected disabilities. You also must be at least 18 years old and not more than 100 percent disabled. If you are married, your spouse may also qualify for the loan. The VA will consider your income and assets when deciding whether to approve your application. If you are approved, the VA will send you an offer of benefits that includes a \"Notice of Benefits\" (NOB). This NOB is important because it tells you how much money the VA will pay on your behalf if you accept their offer of benefits. The NOB does not include any fees or charges that may apply to the loan; those fees and charges are listed in the \"Fees and\n\nQuestion:\nHow many planets are there?\nAnswer:\nThe number of planets in our solar system is not known with certainty. There are many different ways to count the number of planets, and different groups use different methods. The most commonly used method is to count the number of stars that have been observed to have planets orbiting them. This method has led some scientists to estimate that there are about 100 billion (1010) stars in our galaxy, and about 200 billion (2×1010) stars in the Milky Way alone. If we assume that each star has a planet orbiting it, then there would be about 100 billion (1010) planets in our galaxy alone. However, this does not mean that all these planets would be similar to Earth or even habitable by life as we know it;\n\nQuestion:\nHow many planets are there in my milk glass?\nAnswer:\nThere are approximately 1,000 known planets in our Milky Way galaxy. The number of planets in your milk glass is not a good estimate of how many planets there are in the universe. The number of stars and planets is much larger than the number of milk glasses.  Milk glass is made from molten glass that cools very quickly, so it doesn't have time to form a solid crust like other types of glass do. This means that when you break a milk glass, it breaks into tiny pieces that can be easily lost or thrown away. If you want to know how many stars there are in our galaxy, check out this article on star counts for more information about how astronomers measure star counts and what they mean for us here on Earth.\n\n"
        }
       ]
      }
     },
     "89fff6a27b53467cad5bbf4b2456bf8f": {
      "model_module": "@jupyter-widgets/base",
      "model_module_version": "1.2.0",
      "model_name": "LayoutModel",
      "state": {}
     },
     "8c7ae031c6db48e18bcba7a860a9486c": {
      "model_module": "@jupyter-widgets/controls",
      "model_module_version": "1.5.0",
      "model_name": "TextModel",
      "state": {
       "layout": "IPY_MODEL_c72d51d245794b52a2b5cafa5c1ea9d2",
       "placeholder": "Ask a mortgage question",
       "style": "IPY_MODEL_17efad1c8d9045949f85d0f61c6cec32",
       "value": "How long does the application process take?"
      }
     },
     "8e0bb403455a4f73901ffaa1613c9eb1": {
      "model_module": "@jupyter-widgets/controls",
      "model_module_version": "1.5.0",
      "model_name": "TextModel",
      "state": {
       "layout": "IPY_MODEL_a4bcbb3ab9dc4927be8c3dd2c3899a42",
       "placeholder": "Ask a mortgage question",
       "style": "IPY_MODEL_cf10577851d1470680c5cdd5e1fef252",
       "value": "How many planets are there in my milk glass?"
      }
     },
     "8e2511b9942e43588ddee82bfbe4d88a": {
      "model_module": "@jupyter-widgets/base",
      "model_module_version": "1.2.0",
      "model_name": "LayoutModel",
      "state": {}
     },
     "9c79b88e355a492a889c2ba8ccc104a7": {
      "model_module": "@jupyter-widgets/base",
      "model_module_version": "1.2.0",
      "model_name": "LayoutModel",
      "state": {}
     },
     "a31508f5fa624487b04dac2f4929423a": {
      "model_module": "@jupyter-widgets/controls",
      "model_module_version": "1.5.0",
      "model_name": "DescriptionStyleModel",
      "state": {
       "description_width": ""
      }
     },
     "a4bcbb3ab9dc4927be8c3dd2c3899a42": {
      "model_module": "@jupyter-widgets/base",
      "model_module_version": "1.2.0",
      "model_name": "LayoutModel",
      "state": {}
     },
     "aa47d611baa145e7991fedecc87a8bfd": {
      "model_module": "@jupyter-widgets/controls",
      "model_module_version": "1.5.0",
      "model_name": "TextModel",
      "state": {
       "layout": "IPY_MODEL_9c79b88e355a492a889c2ba8ccc104a7",
       "placeholder": "Ask a mortgage question",
       "style": "IPY_MODEL_0b364bf6ad5a4c1dbb44d6df28261298",
       "value": "What are the qualifications for a VA loan?"
      }
     },
     "aa738b5206e94e2cab05dd2491409070": {
      "model_module": "@jupyter-widgets/controls",
      "model_module_version": "1.5.0",
      "model_name": "TextModel",
      "state": {
       "layout": "IPY_MODEL_2fb4ad9dff624038a2e41ade9a6d5686",
       "placeholder": "Ask a mortgage question",
       "style": "IPY_MODEL_ed0053e77ed84e638589d77aa28926d5",
       "value": "How long does the application process take?"
      }
     },
     "ad7f611f3ec7465495fad8bc727496d1": {
      "model_module": "@jupyter-widgets/base",
      "model_module_version": "1.2.0",
      "model_name": "LayoutModel",
      "state": {}
     },
     "aec61bafe84c4c3fa4700f136959a17f": {
      "model_module": "@jupyter-widgets/controls",
      "model_module_version": "1.5.0",
      "model_name": "TextModel",
      "state": {
       "layout": "IPY_MODEL_38fe2929d6ea42a783222a93eb787e1e",
       "placeholder": "Ask a mortgage question",
       "style": "IPY_MODEL_16bf0b67f14049fab7cab65d2eeefc5c",
       "value": "What is the difference between fixed and adjustable rate mortgages?"
      }
     },
     "afe89dc6c5f844b39288f09030d30097": {
      "model_module": "@jupyter-widgets/controls",
      "model_module_version": "1.5.0",
      "model_name": "TextModel",
      "state": {
       "layout": "IPY_MODEL_7153444d2afc4b0cb25e1366a118fa58",
       "placeholder": "Ask a mortgage question",
       "style": "IPY_MODEL_a31508f5fa624487b04dac2f4929423a",
       "value": "What are the qualifications for a VA loan?"
      }
     },
     "b3b5ca0fca2044988513ff97425686e6": {
      "model_module": "@jupyter-widgets/base",
      "model_module_version": "1.2.0",
      "model_name": "LayoutModel",
      "state": {}
     },
     "b426d20cc3b547f0aeda8edab46bf43d": {
      "model_module": "@jupyter-widgets/base",
      "model_module_version": "1.2.0",
      "model_name": "LayoutModel",
      "state": {}
     },
     "c0f0cbdd46c744ba8af33e0e6218cc20": {
      "model_module": "@jupyter-widgets/output",
      "model_module_version": "1.0.0",
      "model_name": "OutputModel",
      "state": {
       "layout": "IPY_MODEL_f0c3f3e9c5a3433da16fa920acfa9bf6",
       "outputs": [
        {
         "name": "stdout",
         "output_type": "stream",
         "text": "Question:\nWhat does LTV stand for?\nAnswer:\nLTV is an abbreviation for Loan-to-Value.\n\nQuestion:\nWhat is the difference between fixed and adjustable rate mortgages?\nAnswer:\nFixed and adjustable rate mortgages are different ways to borrow money.  With an adjustable rate mortgage, the interest rate can change, usually for a specified period of time. The interest rate on an adjustable-rate mortgage (ARM) can change once the initial fixed-rate period ends and the new interest rates begin to adjust. The initial fixed-rate period is called the \"initial lock\". After that, there is a \"reset\" or \"adjustment\" of the interest rates every so often called a \"maturity\". If you have an ARM with no initial lock, your monthly payments will increase as your loan's balance increases over time because your payment will be higher than what it would have been if you had chosen a fixed-rate loan at\n\nQuestion:\nCan you explain the difference between a conforming and non-conforming loan?\nAnswer:\nA conforming loan is a loan that meets certain requirements set by the Federal Housing Finance Agency (FHFA). The FHFA sets these requirements to make sure that loans made through the Federal Housing Administration (FHA) are safe and sound. A non-conforming loan is a loan that does not meet these requirements.\n\nQuestion:\nHow long does the application process take?\nAnswer:\nThe application process for a mortgage loan generally takes three business days or less. If you are applying for a mortgage with a national bank or savings association, the application process generally takes five business days or less. If you are applying for a mortgage with an industrial loan company, the application process generally takes 15 business days or less.\n\n"
        }
       ]
      }
     },
     "c41d6b58386d438894e9c3648b03d026": {
      "model_module": "@jupyter-widgets/controls",
      "model_module_version": "1.5.0",
      "model_name": "DescriptionStyleModel",
      "state": {
       "description_width": ""
      }
     },
     "c72d51d245794b52a2b5cafa5c1ea9d2": {
      "model_module": "@jupyter-widgets/base",
      "model_module_version": "1.2.0",
      "model_name": "LayoutModel",
      "state": {}
     },
     "c90f867411d746cca1fd3abccf298807": {
      "model_module": "@jupyter-widgets/output",
      "model_module_version": "1.0.0",
      "model_name": "OutputModel",
      "state": {
       "layout": "IPY_MODEL_fc86606386f149d5b3197ffc7f2747ed",
       "outputs": [
        {
         "name": "stdout",
         "output_type": "stream",
         "text": "Question:\nWhat does LTV stand for?\nAnswer:\nLTV is an abbreviation for Loan-to-Value.\n\nQuestion:\nWhy is my lender requiring a house appraisal?\nAnswer:\nA lender may require an appraisal if the property is worth more than the amount you are borrowing. An appraisal is a professional opinion about the value of your property. Appraisals are usually required when your loan amount is more than your home's appraised value. If you have a problem with your mortgage, you can submit a complaint to the CFPB online or by calling.\n\nQuestion:\nWhat are the qualifications for a VA loan?\nAnswer:\nThe Department of Veterans Affairs (VA) guarantees the loans.  To be eligible for a VA loan, you must have served in the U. S. military during a war or other emergency, or have been discharged under honorable conditions for service-connected disability and be at least 90 days past your last day of active duty service or within 90 days of discharge from active duty service. You may also qualify if you are a surviving spouse of someone who was killed in action, missing in action, or whose remains are unaccounted for from any war; an immediate family member (spouse and children) of someone who died while on active duty; an immediate family member (spoat and children) of someone who died as a result of a non-\n\n"
        }
       ]
      }
     },
     "c9c257f6be4343c4ab045ae0d5d1dc52": {
      "model_module": "@jupyter-widgets/base",
      "model_module_version": "1.2.0",
      "model_name": "LayoutModel",
      "state": {}
     },
     "cd1e77372083420b889d4c71dd609724": {
      "model_module": "@jupyter-widgets/base",
      "model_module_version": "1.2.0",
      "model_name": "LayoutModel",
      "state": {}
     },
     "cf0f6cc3bfb8483d9c196018fce2647c": {
      "model_module": "@jupyter-widgets/base",
      "model_module_version": "1.2.0",
      "model_name": "LayoutModel",
      "state": {}
     },
     "cf10577851d1470680c5cdd5e1fef252": {
      "model_module": "@jupyter-widgets/controls",
      "model_module_version": "1.5.0",
      "model_name": "DescriptionStyleModel",
      "state": {
       "description_width": ""
      }
     },
     "cfdaa6ba78954ab88578f43eeeded3f8": {
      "model_module": "@jupyter-widgets/base",
      "model_module_version": "1.2.0",
      "model_name": "LayoutModel",
      "state": {}
     },
     "d160eb7de8e342c6a7c3db8bc25d75b7": {
      "model_module": "@jupyter-widgets/controls",
      "model_module_version": "1.5.0",
      "model_name": "DescriptionStyleModel",
      "state": {
       "description_width": ""
      }
     },
     "d369f8413b834b98bbf4553b7db388f3": {
      "model_module": "@jupyter-widgets/controls",
      "model_module_version": "1.5.0",
      "model_name": "TextModel",
      "state": {
       "layout": "IPY_MODEL_b426d20cc3b547f0aeda8edab46bf43d",
       "placeholder": "Ask a mortgage question",
       "style": "IPY_MODEL_739205763da849c38a3773669b72e98c",
       "value": "what's the difference between a conventional and an fha loan?"
      }
     },
     "d707854666b0483daf893c65c3e75408": {
      "model_module": "@jupyter-widgets/output",
      "model_module_version": "1.0.0",
      "model_name": "OutputModel",
      "state": {
       "layout": "IPY_MODEL_ad7f611f3ec7465495fad8bc727496d1",
       "outputs": [
        {
         "name": "stdout",
         "output_type": "stream",
         "text": "Question:\nWhat does LTV stand for?\nAnswer:\nLoan to value (LTV) is the amount of your mortgage loan compared to the property value.\n\nQuestion:\nWhat is the difference between fixed and adjustable rate mortgages?\nAnswer:\nA fixed-rate mortgage is generally a better deal than an adjustable-rate mortgage (ARM).  With a fixed-rate mortgage, you know how long you will have to pay the loan back for. This is called the \"term\". The longer your term, the more likely it is that your monthly payments will be higher than with an adjustable rate mortgage. With an adjustable rate mortgage, your interest rate can change over time. When it does change, it can be higher or lower than what you originally agreed to pay for the loan. If your interest rate does not change as much as with an adjustable rate mortgage and if you have a longer term on your loan (meaning that more of the loan has already been paid off), then this type of loan may be cheaper in total cost over time compared to an ARM.\n\n"
        }
       ]
      }
     },
     "df57283b7bb84d58a5a4e1eef624c3dd": {
      "model_module": "@jupyter-widgets/output",
      "model_module_version": "1.0.0",
      "model_name": "OutputModel",
      "state": {
       "layout": "IPY_MODEL_6bb59fd027c64a9c96ce5549a5ed0d73",
       "outputs": [
        {
         "ename": "NameError",
         "evalue": "name 'prompt_stop' is not defined",
         "output_type": "error",
         "traceback": [
          "\u001b[0;31m---------------------------------------------------------------------------\u001b[0m",
          "\u001b[0;31mNameError\u001b[0m                                 Traceback (most recent call last)",
          "\u001b[0;32m<ipython-input-8-f55b96db53cc>\u001b[0m in \u001b[0;36mprint_my_question\u001b[0;34m(q)\u001b[0m\n\u001b[1;32m      4\u001b[0m \u001b[0;32mdef\u001b[0m \u001b[0mprint_my_question\u001b[0m\u001b[0;34m(\u001b[0m\u001b[0mq\u001b[0m\u001b[0;34m)\u001b[0m\u001b[0;34m:\u001b[0m\u001b[0;34m\u001b[0m\u001b[0;34m\u001b[0m\u001b[0m\n\u001b[1;32m      5\u001b[0m     \u001b[0;32mwith\u001b[0m \u001b[0moutput\u001b[0m\u001b[0;34m:\u001b[0m\u001b[0;34m\u001b[0m\u001b[0;34m\u001b[0m\u001b[0m\n\u001b[0;32m----> 6\u001b[0;31m         \u001b[0mA\u001b[0m \u001b[0;34m=\u001b[0m \u001b[0mask_mortybot\u001b[0m\u001b[0;34m(\u001b[0m\u001b[0mq\u001b[0m\u001b[0;34m.\u001b[0m\u001b[0mvalue\u001b[0m\u001b[0;34m,\u001b[0m \u001b[0mmodel_name\u001b[0m\u001b[0;34m)\u001b[0m\u001b[0;34m\u001b[0m\u001b[0;34m\u001b[0m\u001b[0m\n\u001b[0m\u001b[1;32m      7\u001b[0m         \u001b[0mprint\u001b[0m\u001b[0;34m(\u001b[0m\u001b[0;34mf\"Question:\\n{q.value}\\nAnswer:\\n{A}\\n\"\u001b[0m\u001b[0;34m)\u001b[0m\u001b[0;34m\u001b[0m\u001b[0;34m\u001b[0m\u001b[0m\n\u001b[1;32m      8\u001b[0m \u001b[0;34m\u001b[0m\u001b[0m\n",
          "\u001b[0;32m<ipython-input-7-4d317e24ba76>\u001b[0m in \u001b[0;36mask_mortybot\u001b[0;34m(question, model)\u001b[0m\n\u001b[1;32m     12\u001b[0m     response = openai.Completion.create(\n\u001b[1;32m     13\u001b[0m         \u001b[0mmodel\u001b[0m\u001b[0;34m=\u001b[0m\u001b[0mmodel\u001b[0m\u001b[0;34m,\u001b[0m\u001b[0;34m\u001b[0m\u001b[0;34m\u001b[0m\u001b[0m\n\u001b[0;32m---> 14\u001b[0;31m         \u001b[0mprompt\u001b[0m\u001b[0;34m=\u001b[0m\u001b[0mquestion\u001b[0m \u001b[0;34m+\u001b[0m \u001b[0mprompt_stop\u001b[0m\u001b[0;34m,\u001b[0m\u001b[0;34m\u001b[0m\u001b[0;34m\u001b[0m\u001b[0m\n\u001b[0m\u001b[1;32m     15\u001b[0m         \u001b[0mmax_tokens\u001b[0m\u001b[0;34m=\u001b[0m\u001b[0mMAX_TOKENS\u001b[0m\u001b[0;34m,\u001b[0m\u001b[0;34m\u001b[0m\u001b[0;34m\u001b[0m\u001b[0m\n\u001b[1;32m     16\u001b[0m         \u001b[0mtemperature\u001b[0m\u001b[0;34m=\u001b[0m\u001b[0mTEMPERATURE\u001b[0m\u001b[0;34m,\u001b[0m\u001b[0;34m\u001b[0m\u001b[0;34m\u001b[0m\u001b[0m\n",
          "\u001b[0;31mNameError\u001b[0m: name 'prompt_stop' is not defined"
         ]
        }
       ]
      }
     },
     "e07b277efffb4c0eb5f65e6c8816c867": {
      "model_module": "@jupyter-widgets/controls",
      "model_module_version": "1.5.0",
      "model_name": "DescriptionStyleModel",
      "state": {
       "description_width": ""
      }
     },
     "ebffa4bf2d4847d2bf97af1d2192f1ce": {
      "model_module": "@jupyter-widgets/base",
      "model_module_version": "1.2.0",
      "model_name": "LayoutModel",
      "state": {}
     },
     "ed0053e77ed84e638589d77aa28926d5": {
      "model_module": "@jupyter-widgets/controls",
      "model_module_version": "1.5.0",
      "model_name": "DescriptionStyleModel",
      "state": {
       "description_width": ""
      }
     },
     "f0c3f3e9c5a3433da16fa920acfa9bf6": {
      "model_module": "@jupyter-widgets/base",
      "model_module_version": "1.2.0",
      "model_name": "LayoutModel",
      "state": {}
     },
     "fc86606386f149d5b3197ffc7f2747ed": {
      "model_module": "@jupyter-widgets/base",
      "model_module_version": "1.2.0",
      "model_name": "LayoutModel",
      "state": {}
     }
    },
    "version_major": 2,
    "version_minor": 0
   }
  }
 },
 "nbformat": 4,
 "nbformat_minor": 2
}
