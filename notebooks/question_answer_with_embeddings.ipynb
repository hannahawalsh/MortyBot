{
 "cells": [
  {
   "cell_type": "markdown",
   "metadata": {},
   "source": [
    "# Question Answering Using Embeddings\n",
    "---\n",
    "Now that we've scraped our mortgage knowledge from the cfpb, now we are ready to ask questions. The responses will have all the information from the cfpb as well as its already gained general knowledge from the gpt-3 training.  \n",
    "We will embed the text so that the completions model will be able to look up answers quickly."
   ]
  },
  {
   "cell_type": "code",
   "execution_count": 1,
   "metadata": {},
   "outputs": [],
   "source": [
    "import openai\n",
    "import pandas as pd\n",
    "from transformers import GPT2TokenizerFast\n",
    "import numpy as np\n",
    "import tiktoken\n",
    "import os\n",
    "from ipywidgets import widgets\n",
    "import warnings\n",
    "warnings.filterwarnings(\"ignore\", message=\"Unverified HTTPS request is being made to host\")\n",
    "os.environ[\"CURL_CA_BUNDLE\"] = \"\""
   ]
  },
  {
   "cell_type": "code",
   "execution_count": 2,
   "metadata": {},
   "outputs": [],
   "source": [
    "# Define which models we are using\n",
    "# COMPLETION_MODEL = \"text-ada-001\" # cheapest model\n",
    "# COMPLETION_MODEL = \"text-babbage-001\"\n",
    "# COMPLETION_MODEL = \"text-curie-001\"\n",
    "COMPLETION_MODEL = \"text-davinci-003\" # most advanced model\n",
    "\n",
    "EMBEDDING_MODEL = \"text-embedding-ada-002\"\n",
    "TOKENIZER = GPT2TokenizerFast.from_pretrained(\"gpt2\")\n",
    "ENCODING = tiktoken.get_encoding(\"cl100k_base\")\n",
    "\n",
    "# You must have your own OpenAI api key and store it \n",
    "# as an environment variable on your computer\n",
    "openai.api_key = os.getenv(\"OPENAI_API_KEY\")"
   ]
  },
  {
   "cell_type": "code",
   "execution_count": 3,
   "metadata": {},
   "outputs": [],
   "source": [
    "def get_embedding(text):\n",
    "    \"\"\" \n",
    "    Using the specified OpenAI embedding model, \n",
    "    embed the given text.\n",
    "    \"\"\"\n",
    "    result = openai.Embedding.create(\n",
    "        model=EMBEDDING_MODEL, input=text)\n",
    "    return result[\"data\"][0][\"embedding\"]\n",
    "\n",
    "def compute_doc_embeddings(context_df):\n",
    "    \"\"\"\n",
    "    Compute the embeddings for text in the 'content' column \n",
    "    of a dataframe.\n",
    "    \"\"\"\n",
    "    result = {\n",
    "        i: get_embedding(r.content)\n",
    "        for i, r in context_df.iterrows()\n",
    "    }\n",
    "    return result\n",
    "\n",
    "def load_embeddings(filepath, index_names=None):\n",
    "    \"\"\"\n",
    "    Load embeddings from a csv and properly format for use\n",
    "    \"\"\"\n",
    "    loaded = pd.read_csv(filepath, index_col=index_names)\n",
    "    return loaded.apply(list, axis=1).to_dict()\n",
    "\n",
    "def documents_by_similarity(query, contexts):\n",
    "    \"\"\"\n",
    "    Get the embedding of a query and then find rank\n",
    "    the document embeddings by most to least similar\n",
    "    \"\"\"\n",
    "    query_embedding = get_embedding(query)\n",
    "    doc_sims = [(np.dot(query_embedding, doc_embedding), idx)\n",
    "                for idx, doc_embedding in contexts.items()]\n",
    "    return sorted(doc_sims, reverse=True)"
   ]
  },
  {
   "cell_type": "code",
   "execution_count": 4,
   "metadata": {},
   "outputs": [],
   "source": [
    "def construct_prompt(question, context_embeddings, context_df):\n",
    "    \"\"\"\n",
    "    Given a question, the context embeddings dictionary, and \n",
    "    the context dataframe, construct an appropriate prompt for\n",
    "    a completion model.\n",
    "    \"\"\"\n",
    "    # Rank the content that is most similar to the question\n",
    "    best_docs = documents_by_similarity(question, context_embeddings)\n",
    "    \n",
    "    # Iterate through documents to get enough passages\n",
    "    # to reach the defined maximum section length\n",
    "    MAX_SECTION_LEN = 500\n",
    "    SEP = \"\\n* \"\n",
    "    chosen_sections = []\n",
    "    chosen_section_idxs = []\n",
    "    text_len = 0\n",
    "    separator_len = len(ENCODING.encode(SEP))\n",
    "    \n",
    "    best_idxs = [x[1] for x in best_docs]\n",
    "    for idx, row in context_df.reindex(index=best_idxs).iterrows():\n",
    "        text_len += row.tokens + separator_len\n",
    "        if text_len > MAX_SECTION_LEN:\n",
    "            break\n",
    "        chosen_sections.append(SEP + row.content)\n",
    "        chosen_section_idxs.append(idx)\n",
    "    \n",
    "    # Create the prompt\n",
    "    prompt = (\n",
    "        \"Answer this question truthfully using the provided context, \"\n",
    "        \"and if the answer is not contained within the text below, \"\n",
    "        \"say \\\"I don't know.\\\"\\n\\nContext:\\n\"\n",
    "        f\"{' '.join(chosen_sections)}\\n\\n Q: {question}\\n A: \"\n",
    "    )\n",
    "    return prompt\n",
    "\n",
    "\n",
    "def answer_query_with_context(query, context_df, context_embeddings):\n",
    "    \"\"\"\n",
    "    Format a question to the appropriate prompt and \n",
    "    then send to the OpenAI completion model.\n",
    "    \"\"\"\n",
    "    prompt = construct_prompt(query, context_embeddings, context_df)\n",
    "    \n",
    "    # Send request to completion model\n",
    "    MAX_TOKENS = 300\n",
    "    response = openai.Completion.create(\n",
    "        prompt=prompt,\n",
    "        temperature=0.0,\n",
    "        max_tokens=MAX_TOKENS,\n",
    "        model=COMPLETION_MODEL\n",
    "    )\n",
    "    return response[\"choices\"][0][\"text\"].replace(\"\\n\", \" \").strip()"
   ]
  },
  {
   "cell_type": "code",
   "execution_count": 5,
   "metadata": {},
   "outputs": [],
   "source": [
    "def start_mortybot(context_df_path, embedding_path, force_compute=False):\n",
    "    \"\"\"\n",
    "    Load the file containing all of the context.\n",
    "    If it exists, load the embeddings file. \n",
    "    If its size doesn't match the context data or if the\n",
    "    file doesn't exist, compute embeddings on context data.\n",
    "    \"\"\"\n",
    "    # Load context df\n",
    "    df = pd.read_csv(context_df_path)\n",
    "    print(\"Loaded context\")\n",
    "    \n",
    "    # Load or generate document embeddings\n",
    "    if os.path.exists(embedding_path):\n",
    "        # Load\n",
    "        emb = load_embeddings(embedding_path)\n",
    "        if len(emb) == len(df) and not force_compute:\n",
    "            print(\"Loaded embeddings\")\n",
    "        else:\n",
    "            # If it doesn't match context, delete it and make a new one\n",
    "            os.remove(embedding_path)\n",
    "    if not os.path.exists(embedding_path) or force_compute:\n",
    "        # Generate and save\n",
    "        emb = compute_doc_embeddings(df)\n",
    "        emb_df = pd.DataFrame.from_dict(emb, orient=\"index\")\n",
    "        emb_df.to_csv(embedding_path, index=False)\n",
    "        print(\"Generated embeddings\")\n",
    "    return df, emb"
   ]
  },
  {
   "cell_type": "code",
   "execution_count": 6,
   "metadata": {},
   "outputs": [
    {
     "name": "stdout",
     "output_type": "stream",
     "text": [
      "Loaded context\n",
      "Loaded embeddings\n"
     ]
    }
   ],
   "source": [
    "# Try it out\n",
    "context_df, context_embeddings = start_mortybot(\n",
    "    context_df_path=\"../data/mortgage_context_text.csv\", \n",
    "    embedding_path=\"../data/mortgage_text_embeddings.csv\",\n",
    "    force_compute=False\n",
    ")"
   ]
  },
  {
   "cell_type": "code",
   "execution_count": 7,
   "metadata": {},
   "outputs": [
    {
     "data": {
      "application/vnd.jupyter.widget-view+json": {
       "model_id": "f657e35314b34e9f810cac820b549361",
       "version_major": 2,
       "version_minor": 0
      },
      "text/plain": [
       "Text(value='', placeholder='Ask a mortgage question')"
      ]
     },
     "metadata": {},
     "output_type": "display_data"
    },
    {
     "data": {
      "application/vnd.jupyter.widget-view+json": {
       "model_id": "2d19cf6ea7774df3abdfc455032fcbeb",
       "version_major": 2,
       "version_minor": 0
      },
      "text/plain": [
       "Output()"
      ]
     },
     "metadata": {},
     "output_type": "display_data"
    }
   ],
   "source": [
    "# Ask a question and print the answer\n",
    "Q = widgets.Text(placeholder=\"Ask a mortgage question\")\n",
    "output = widgets.Output()\n",
    "def print_my_question(q):\n",
    "    with output:\n",
    "        A = answer_query_with_context(q.value, context_df, context_embeddings)\n",
    "        print(f\"Question:\\n{q.value}\\nAnswer:\\n{A}\\n\")\n",
    "\n",
    "display(Q, output)\n",
    "Q.on_submit(print_my_question)"
   ]
  },
  {
   "cell_type": "markdown",
   "metadata": {},
   "source": [
    "### Examples responses\n",
    "**What does DTI stand for?**  \n",
    ">Debt-to-Income Ratio\n",
    "\n",
    "<br></br>\n",
    "\n",
    "**Why am I asked for my social security number?**  \n",
    ">Your Social Security number is requested so the lender can check your credit. \n",
    "\n",
    "<br></br>\n",
    "\n",
    "**What is my name?**  \n",
    ">I don't know."
   ]
  },
  {
   "cell_type": "code",
   "execution_count": null,
   "metadata": {},
   "outputs": [],
   "source": []
  }
 ],
 "metadata": {
  "kernelspec": {
   "display_name": "Python 3",
   "language": "python",
   "name": "python3"
  },
  "language_info": {
   "codemirror_mode": {
    "name": "ipython",
    "version": 3
   },
   "file_extension": ".py",
   "mimetype": "text/x-python",
   "name": "python",
   "nbconvert_exporter": "python",
   "pygments_lexer": "ipython3",
   "version": "3.8.5"
  },
  "widgets": {
   "application/vnd.jupyter.widget-state+json": {
    "state": {
     "0ed1929fcb5b4957ae1010093009da7c": {
      "model_module": "@jupyter-widgets/base",
      "model_module_version": "1.2.0",
      "model_name": "LayoutModel",
      "state": {}
     },
     "21339e1ef4204df397abb6e3c0734e97": {
      "model_module": "@jupyter-widgets/controls",
      "model_module_version": "1.5.0",
      "model_name": "TextModel",
      "state": {
       "layout": "IPY_MODEL_c886e5f419074d33bb17babdaacf35bd",
       "placeholder": "Ask a mortgage question",
       "style": "IPY_MODEL_4e568a82a65e40e8a5ed920571aa209c"
      }
     },
     "2d19cf6ea7774df3abdfc455032fcbeb": {
      "model_module": "@jupyter-widgets/output",
      "model_module_version": "1.0.0",
      "model_name": "OutputModel",
      "state": {
       "layout": "IPY_MODEL_7f9b926e908e4426b200f4c642c8beb7",
       "outputs": [
        {
         "name": "stdout",
         "output_type": "stream",
         "text": "Question:\nWhat does DTI stand for?\nAnswer:\nDebt-to-Income Ratio\n\nQuestion:\nWhy am I asked for my social security number?\nAnswer:\nYour Social Security number is requested so the lender can check your credit.\n\nQuestion:\nWhat is my name?\nAnswer:\nI don't know.\n\n"
        }
       ]
      }
     },
     "38e5f4b66a6b46508b10cf76bab8cbdd": {
      "model_module": "@jupyter-widgets/base",
      "model_module_version": "1.2.0",
      "model_name": "LayoutModel",
      "state": {}
     },
     "45e5b0b88f944b52aeca13a70bcd69e0": {
      "model_module": "@jupyter-widgets/controls",
      "model_module_version": "1.5.0",
      "model_name": "DescriptionStyleModel",
      "state": {
       "description_width": ""
      }
     },
     "4e568a82a65e40e8a5ed920571aa209c": {
      "model_module": "@jupyter-widgets/controls",
      "model_module_version": "1.5.0",
      "model_name": "DescriptionStyleModel",
      "state": {
       "description_width": ""
      }
     },
     "4ff0031c30ef45d6823f4dd5beb7790a": {
      "model_module": "@jupyter-widgets/output",
      "model_module_version": "1.0.0",
      "model_name": "OutputModel",
      "state": {
       "layout": "IPY_MODEL_5dd7df2e7a18446d962020552913ef70",
       "outputs": [
        {
         "name": "stdout",
         "output_type": "stream",
         "text": "Question:\nWhat does DTI stand for?\nAnswer:\nDebt-to-Income Ratio\n\nQuestion:\nWhy am I asked for my social security number?\nAnswer:\nYour Social Security number is requested so the lender can check your credit.\n\nQuestion:\nWhat is my name?\nAnswer:\nI don't know.\n\n"
        }
       ]
      }
     },
     "5dd7df2e7a18446d962020552913ef70": {
      "model_module": "@jupyter-widgets/base",
      "model_module_version": "1.2.0",
      "model_name": "LayoutModel",
      "state": {}
     },
     "7f9b926e908e4426b200f4c642c8beb7": {
      "model_module": "@jupyter-widgets/base",
      "model_module_version": "1.2.0",
      "model_name": "LayoutModel",
      "state": {}
     },
     "9d629c47dba8412a9f06195f5efaa16c": {
      "model_module": "@jupyter-widgets/controls",
      "model_module_version": "1.5.0",
      "model_name": "DescriptionStyleModel",
      "state": {
       "description_width": ""
      }
     },
     "c886e5f419074d33bb17babdaacf35bd": {
      "model_module": "@jupyter-widgets/base",
      "model_module_version": "1.2.0",
      "model_name": "LayoutModel",
      "state": {}
     },
     "ce57f3a36aa14b679aa7a87a9f313f3f": {
      "model_module": "@jupyter-widgets/base",
      "model_module_version": "1.2.0",
      "model_name": "LayoutModel",
      "state": {}
     },
     "cf8116503039432499f2ab5f1ce493b3": {
      "model_module": "@jupyter-widgets/controls",
      "model_module_version": "1.5.0",
      "model_name": "TextModel",
      "state": {
       "layout": "IPY_MODEL_38e5f4b66a6b46508b10cf76bab8cbdd",
       "placeholder": "Ask a mortgage question",
       "style": "IPY_MODEL_9d629c47dba8412a9f06195f5efaa16c",
       "value": "What is my name?"
      }
     },
     "e06062ceed3142a2af5273259eeda0b3": {
      "model_module": "@jupyter-widgets/output",
      "model_module_version": "1.0.0",
      "model_name": "OutputModel",
      "state": {
       "layout": "IPY_MODEL_ce57f3a36aa14b679aa7a87a9f313f3f",
       "outputs": [
        {
         "name": "stdout",
         "output_type": "stream",
         "text": "Question:\nWhat does DTI stand for?\nAnswer:\nDebt-to-Income Ratio\n\nQuestion:\nWhy am I asked for my social security number?\nAnswer:\nYour Social Security number (so the lender can check your credit) is required to receive a Loan Estimate.\n\nQuestion:\nWhat is my name?\nAnswer:\nI don't know.\n\n"
        }
       ]
      }
     },
     "f657e35314b34e9f810cac820b549361": {
      "model_module": "@jupyter-widgets/controls",
      "model_module_version": "1.5.0",
      "model_name": "TextModel",
      "state": {
       "layout": "IPY_MODEL_0ed1929fcb5b4957ae1010093009da7c",
       "placeholder": "Ask a mortgage question",
       "style": "IPY_MODEL_45e5b0b88f944b52aeca13a70bcd69e0",
       "value": "What is my name?"
      }
     }
    },
    "version_major": 2,
    "version_minor": 0
   }
  }
 },
 "nbformat": 4,
 "nbformat_minor": 4
}
