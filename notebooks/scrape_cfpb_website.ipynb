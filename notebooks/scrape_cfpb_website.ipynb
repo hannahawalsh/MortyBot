{
 "cells": [
  {
   "cell_type": "markdown",
   "metadata": {},
   "source": [
    "![consumer financial protection beureau](https://files.consumerfinance.gov/f/images/FCM_mortgages.original.png)\n",
    "\n",
    "# Scrape the CFPB Website\n",
    "---\n",
    "The [Consumer Financial Protection Bureau](https://www.consumerfinance.gov/consumer-tools/mortgages/) provides a wealth of unbiased information about mortgages and the application process. We will scrape all the articles they've posted about mortgages to use in our model.  \n",
    "After scraping the raw text, we will format it so that it works well with our encoding and GPT model."
   ]
  },
  {
   "cell_type": "code",
   "execution_count": 1,
   "metadata": {},
   "outputs": [],
   "source": [
    "import requests\n",
    "from bs4 import BeautifulSoup\n",
    "import re\n",
    "import string\n",
    "import pandas as pd\n",
    "from tqdm.notebook import tqdm\n",
    "from transformers import GPT2TokenizerFast\n",
    "import tiktoken\n",
    "from nltk.tokenize import sent_tokenize\n",
    "import os\n",
    "\n",
    "import warnings\n",
    "warnings.filterwarnings(\"ignore\", message=\"Unverified HTTPS request is being made to host\")\n",
    "os.environ[\"CURL_CA_BUNDLE\"] = \"\"\n",
    "\n",
    "pd.set_option(\"display.max_colwidth\", None)\n",
    "pd.set_option(\"display.html.use_mathjax\", False)"
   ]
  },
  {
   "cell_type": "markdown",
   "metadata": {},
   "source": [
    "---\n",
    "### Text formatting\n",
    "Web scraping is notoriously dirty, so we define a function that makes the string prettier and easier for a machine learning model - and humans - to read."
   ]
  },
  {
   "cell_type": "code",
   "execution_count": 2,
   "metadata": {},
   "outputs": [],
   "source": [
    "def prettify_string(text):\n",
    "    \"\"\" \n",
    "    Reformat a text string to follow the rules of English \n",
    "    punctuation and have only readable characters\n",
    "    \"\"\"\n",
    "    # Replace quotes and dashes with their ASCII counterparts\n",
    "    text = (\n",
    "        text\n",
    "        .replace(\"’\", \"'\")\n",
    "        .replace(\"‘\", \"'\")\n",
    "        .replace('“', '\"')\n",
    "        .replace('”', '\"')\n",
    "        .replace(\"–\", \" - \")\n",
    "        .replace(\"—\", \" - \")\n",
    "        .replace(\"\\n\", \" \") # No new lines in text\n",
    "        .replace(\"\\t\", \" \") # No tabs\n",
    "    )\n",
    "    # Remove any phone numbers\n",
    "    phone_pattern = \"(at )??(1\\s+)??\\(??[0-9]{3}\\)??\\s+[0-9A-Z]{3}[-\\s]+[0-9A-Z]{4}\\s+(\\([0-9]{4}\\))?\"\n",
    "    text = re.sub(phone_pattern, \"\", text)\n",
    "    # Remove any emails\n",
    "    email_pattern = r\"(at )??([a-zA-Z0-9\\.]+)@([a-zA-Z0-9]+)\\.([a-zA-Z]+)\"\n",
    "    text = re.sub(email_pattern, \"\", text)\n",
    "    # Replace all non-breaking whitespace or tabs with regular space\n",
    "    text = re.sub(r\"\\xa0|\\t\", \" \", text)\n",
    "    # Remove all other non-printable characters\n",
    "    text = \"\".join([c for c in text if c in  string.printable])\n",
    "    # No double white space\n",
    "    text = re.sub(r\"\\s+\", \" \", text)\n",
    "    # Remove space before punctuation\n",
    "    text = re.sub(r\"(\\s)([.,;:'])\", r\"\\2\", text) \n",
    "    # Remove double punctuation\n",
    "    text = re.sub(r\"([,.;])([,.;]+)\", r\"\\1\", text) \n",
    "    # Space between words\n",
    "    text = re.sub(r\"([a-zA-Z])?([,.;])([a-zA-Z])\", r\"\\1\\2 \\3\", text)\n",
    "    # Switch punctuation to be on outside of quotes\n",
    "    text = re.sub(r\"([\\?\\.])([\\\"\\'])\",  r\"\\2\\1\", text)\n",
    "    # In case of merged words that are lower then upper\n",
    "    text = re.sub(r\"([a-z])([A-Z])\", r\"\\1 \\2\", text)\n",
    "    \n",
    "    # Strip leading/trailing whitespace\n",
    "    return text.strip()"
   ]
  },
  {
   "cell_type": "markdown",
   "metadata": {},
   "source": [
    "---\n",
    "### Key Terms\n",
    "The CFPB provides a [helpful explaination](https://www.consumerfinance.gov/consumer-tools/mortgages/answers/key-terms/) of some of the most new and confusing terms surrounding mortgages. It explains everything from APR to initial adjustment cap and beyond.  \n",
    "We will scrape this page to get the definitions of the terms. Since some of the definitions start with \"It means,\" we will add back in the context of the term."
   ]
  },
  {
   "cell_type": "code",
   "execution_count": 3,
   "metadata": {},
   "outputs": [],
   "source": [
    "# Scrap raw HTML from webpage\n",
    "base_url = \"https://www.consumerfinance.gov/consumer-tools/mortgages/answers/\"\n",
    "key_terms_url = base_url + \"key-terms/\"\n",
    "page = requests.get(key_terms_url, verify=False)\n",
    "soup = BeautifulSoup(page.content, \"html.parser\")"
   ]
  },
  {
   "cell_type": "code",
   "execution_count": 4,
   "metadata": {},
   "outputs": [],
   "source": [
    "# Extract the term and the definition\n",
    "def get_term(term):\n",
    "    found = term.find(\"dt\", class_=\"term_name\")\n",
    "    return prettify_string(found.get_text())\n",
    "        \n",
    "def get_definition(term):\n",
    "    found = term.find(\"dd\", class_=\"term_definition\")\n",
    "    text = prettify_string(found.get_text())\n",
    "    text = (\n",
    "        text\n",
    "        .split(\"Read more\")[0]\n",
    "        .split(\"Learn more\")[0]\n",
    "    )\n",
    "    return text\n",
    "\n",
    "def_records = [\n",
    "    (get_term(term), get_definition(term))\n",
    "    for term in soup.find_all(\"div\", class_=\"term\")]\n",
    "term_df = pd.DataFrame(def_records, columns=[\"term\", \"definition\"])\n",
    "\n",
    "\n",
    "# Adjust the answer in case it's ambigouous without the term\n",
    "def adjust_answer(row):\n",
    "    if not row.definition.startswith(\"It means\"):\n",
    "        return row.definition\n",
    "    return re.sub(\"It\", row.term, row.definition)\n",
    "term_df[\"content\"] = term_df.apply(adjust_answer, axis=1)"
   ]
  },
  {
   "cell_type": "code",
   "execution_count": 5,
   "metadata": {},
   "outputs": [
    {
     "data": {
      "text/html": [
       "<div>\n",
       "<style scoped>\n",
       "    .dataframe tbody tr th:only-of-type {\n",
       "        vertical-align: middle;\n",
       "    }\n",
       "\n",
       "    .dataframe tbody tr th {\n",
       "        vertical-align: top;\n",
       "    }\n",
       "\n",
       "    .dataframe thead th {\n",
       "        text-align: right;\n",
       "    }\n",
       "</style>\n",
       "<table border=\"1\" class=\"dataframe tex2jax_ignore\">\n",
       "  <thead>\n",
       "    <tr style=\"text-align: right;\">\n",
       "      <th></th>\n",
       "      <th>term</th>\n",
       "      <th>definition</th>\n",
       "      <th>content</th>\n",
       "    </tr>\n",
       "  </thead>\n",
       "  <tbody>\n",
       "    <tr>\n",
       "      <th>4</th>\n",
       "      <td>Amount financed</td>\n",
       "      <td>It means the amount of money you are borrowing from the lender, minus most of the upfront fees the lender is charging you.</td>\n",
       "      <td>Amount financed means the amount of money you are borrowing from the lender, minus most of the upfront fees the lender is charging you.</td>\n",
       "    </tr>\n",
       "    <tr>\n",
       "      <th>5</th>\n",
       "      <td>Annual income</td>\n",
       "      <td>Annual income is a factor in a mortgage loan application and generally refers to your total earned, pre-tax income over a year. Annual income may include income from full-time or part-time work, self-employment, tips, commissions, overtime, bonuses, or other sources. A lender will use information about your annual income and your existing monthly debts to determine if you have the ability to repay the loan. Whether a lender will rely upon a specific income source or amount when considering you for a loan will often depend upon whether you can reasonably expect the income to continue.</td>\n",
       "      <td>Annual income is a factor in a mortgage loan application and generally refers to your total earned, pre-tax income over a year. Annual income may include income from full-time or part-time work, self-employment, tips, commissions, overtime, bonuses, or other sources. A lender will use information about your annual income and your existing monthly debts to determine if you have the ability to repay the loan. Whether a lender will rely upon a specific income source or amount when considering you for a loan will often depend upon whether you can reasonably expect the income to continue.</td>\n",
       "    </tr>\n",
       "  </tbody>\n",
       "</table>\n",
       "</div>"
      ],
      "text/plain": [
       "              term  \\\n",
       "4  Amount financed   \n",
       "5    Annual income   \n",
       "\n",
       "                                                                                                                                                                                                                                                                                                                                                                                                                                                                                                                                                                                                        definition  \\\n",
       "4                                                                                                                                                                                                                                                                                                                                                                                                                                                                                      It means the amount of money you are borrowing from the lender, minus most of the upfront fees the lender is charging you.    \n",
       "5  Annual income is a factor in a mortgage loan application and generally refers to your total earned, pre-tax income over a year. Annual income may include income from full-time or part-time work, self-employment, tips, commissions, overtime, bonuses, or other sources. A lender will use information about your annual income and your existing monthly debts to determine if you have the ability to repay the loan. Whether a lender will rely upon a specific income source or amount when considering you for a loan will often depend upon whether you can reasonably expect the income to continue.    \n",
       "\n",
       "                                                                                                                                                                                                                                                                                                                                                                                                                                                                                                                                                                                                           content  \n",
       "4                                                                                                                                                                                                                                                                                                                                                                                                                                                                         Amount financed means the amount of money you are borrowing from the lender, minus most of the upfront fees the lender is charging you.   \n",
       "5  Annual income is a factor in a mortgage loan application and generally refers to your total earned, pre-tax income over a year. Annual income may include income from full-time or part-time work, self-employment, tips, commissions, overtime, bonuses, or other sources. A lender will use information about your annual income and your existing monthly debts to determine if you have the ability to repay the loan. Whether a lender will rely upon a specific income source or amount when considering you for a loan will often depend upon whether you can reasonably expect the income to continue.   "
      ]
     },
     "execution_count": 5,
     "metadata": {},
     "output_type": "execute_result"
    }
   ],
   "source": [
    "# Here's what it looks like\n",
    "term_df.loc[4:5]"
   ]
  },
  {
   "cell_type": "markdown",
   "metadata": {},
   "source": [
    "---\n",
    "### Mortgage Questions and Answers\n",
    "The CFPB also provides more [detailed answers](https://www.consumerfinance.gov/consumer-tools/mortgages/answers/) to specific questions. These are grouped into 4 categories: basics, common issues, know your rights, and how-to guides.  \n",
    "Each question gets its own article. The articles are listed in a paginated format on their website, so we can scrape the article urls, then scrape the articles themselves. Each article has a title (which is the question), a short answer (optional), and a full answer. "
   ]
  },
  {
   "cell_type": "code",
   "execution_count": 6,
   "metadata": {},
   "outputs": [],
   "source": [
    "# Get all pages with article links\n",
    "URL_pages = {\n",
    "    \"basics\": 5,\n",
    "    \"common-issues\": 5,\n",
    "    \"know-your-rights\": 3,\n",
    "    \"how-to-guides\": 2\n",
    "}\n",
    "URLs = []\n",
    "for k, v in URL_pages.items():\n",
    "    URLs.extend([f\"{base_url}{k}?page={i+1}\" for i in range(v)])\n",
    "\n",
    "# For each of these pages, scrape all of the article URLs\n",
    "articles = []\n",
    "for url in URLs:\n",
    "    page = requests.get(url, verify=False)\n",
    "    soup = BeautifulSoup(page.content, \"html.parser\")\n",
    "    articles.extend([\n",
    "        f\"https://{link.find('a').get('data-pretty-href')}\" \n",
    "        for link in soup.find_all(\"article\")])"
   ]
  },
  {
   "cell_type": "code",
   "execution_count": 7,
   "metadata": {},
   "outputs": [
    {
     "data": {
      "application/vnd.jupyter.widget-view+json": {
       "model_id": "843ddbb41cfb4b979dd6731cdfb792b0",
       "version_major": 2,
       "version_minor": 0
      },
      "text/plain": [
       "Scraping:   0%|          | 0/313 [00:00<?, ?it/s]"
      ]
     },
     "metadata": {},
     "output_type": "display_data"
    },
    {
     "name": "stdout",
     "output_type": "stream",
     "text": [
      "\n",
      "240 records\n"
     ]
    }
   ],
   "source": [
    "def parse_cfpb_article(article_link):\n",
    "    \"\"\" Scrape and parse and article from the CFPB website. \"\"\"\n",
    "    # Scrape article\n",
    "    article = requests.get(article_link, verify=False)\n",
    "    article_soup = BeautifulSoup(article.content, \"html.parser\")\n",
    "    page_contents = {}\n",
    "    \n",
    "    # Get main question/page title\n",
    "    page_contents[\"question\"] = article_soup.find('h1').get_text().strip()\n",
    "        \n",
    "    # See if there's a short answer for this article\n",
    "    lead = article_soup.find(\"div\", class_=\"lead-paragraph\")\n",
    "    page_contents[\"short_answer\"] = lead.get_text().strip() if lead else \"\"\n",
    "\n",
    "    # Get long answer, including list items\n",
    "    long_answer = \"\"\n",
    "    answer_html = article_soup.find(\"div\", class_=\"answer-text\")\n",
    "    for row in answer_html.find_all(\"div\", class_=\"row\"):\n",
    "        for line in row.find_all([\"h1\", \"h2\", \"p\", \"li\"]):\n",
    "            text = line.get_text().strip()\n",
    "            long_answer += \" \" + text\n",
    "            if line.name == \"li\" and text:\n",
    "                long_answer += \";\"\n",
    "    page_contents[\"long_answer\"] = long_answer\n",
    "    return pd.Series(page_contents).apply(prettify_string)\n",
    "  \n",
    "# Load and parse all articles into a pandas dataframe\n",
    "tqdm.pandas(desc=\"Scraping\")\n",
    "answer_df = (\n",
    "    pd.Series(articles)\n",
    "    .progress_apply(parse_cfpb_article)\n",
    "    .drop_duplicates()\n",
    ")\n",
    "print(f\"\\n{len(answer_df)} records\")"
   ]
  },
  {
   "cell_type": "markdown",
   "metadata": {},
   "source": [
    "When we feed the data into a language model, we don't want \n",
    "individual texts to be too long, so we set a token cutoff and \n",
    "break text that is longer than that cutoff into multiple records.  \n",
    "Once we've broken down large records, we'll join together the \n",
    "question, short answer, and long answer (section) to get one\n",
    "cohesive content entry."
   ]
  },
  {
   "cell_type": "code",
   "execution_count": 8,
   "metadata": {},
   "outputs": [],
   "source": [
    "# We want to format the text to have the question, the short answer, and the \n",
    "# long answer. There are some really long bits of text, so we should break \n",
    "# those into smaller chunks.\n",
    "\n",
    "TOKENIZER = GPT2TokenizerFast.from_pretrained(\"gpt2\")\n",
    "ENCODING = tiktoken.get_encoding(\"cl100k_base\")\n",
    "\n",
    "def count_tokens(text):\n",
    "    \"\"\" Count number of tokens. \"\"\"\n",
    "    return len(ENCODING.encode(text))\n",
    "      \n",
    "    \n",
    "def format_content(row, max_len=512):\n",
    "    \"\"\"\n",
    "    Create the content column of our answer data frame for use \n",
    "    in our embeddings model. Include the question, short answer, \n",
    "    and long answer. If the body is too long, break it into \n",
    "    several entries by returning a list and later using .explode()\n",
    "    For each of the chunks of the body, we will prepend the \n",
    "    title question and short answer\n",
    "    \"\"\"\n",
    "    prefix = row.question + \" \" + row.short_answer + \" \"\n",
    "    prefix_tokens = count_tokens(prefix)\n",
    "    max_len -= prefix_tokens\n",
    "    remaining_tokens = count_tokens(row.long_answer)\n",
    "    if prefix_tokens + remaining_tokens < max_len:\n",
    "        return prefix + row.long_answer\n",
    "    \n",
    "    # Break into smaller chunks by tokenizing sentences\n",
    "    sentences = sent_tokenize(row.long_answer)\n",
    "    use_text = []\n",
    "    while True:\n",
    "        # Count the remaining total tokens\n",
    "        remaining = count_tokens(\". \".join(sentences))\n",
    "        \n",
    "        # Remaining text is shorter than maximum length\n",
    "        if remaining <= max_len:\n",
    "            use_text.append(sentences)\n",
    "            break\n",
    "\n",
    "        # Find the maximum number of sentences until the\n",
    "        # maximum token length is reached\n",
    "        ntokens = 0\n",
    "        for i, sentence in enumerate(sentences):\n",
    "            ntokens += 1 + count_tokens(sentence)\n",
    "            if ntokens > max_len:\n",
    "                use_text.append(sentences[:i][:-1])\n",
    "                sentences = sentences[i:]\n",
    "                break\n",
    "                \n",
    "    # Join each of those sublists into cohesive chunks\n",
    "    chunks = [re.sub(r\"\\.+\", \".\", f\"{prefix} {'. '.join(x)}.\") \n",
    "              for x in use_text]\n",
    "    return chunks"
   ]
  },
  {
   "cell_type": "code",
   "execution_count": 9,
   "metadata": {},
   "outputs": [
    {
     "name": "stdout",
     "output_type": "stream",
     "text": [
      "New length: 291 records\n"
     ]
    }
   ],
   "source": [
    "MAX_LENGTH = 512\n",
    "answer_df[\"content\"] = answer_df.apply(\n",
    "    format_content, max_len=MAX_LENGTH, axis=1)\n",
    "answer_df = answer_df.explode(\"content\")\n",
    "\n",
    "print(f\"New length: {len(answer_df)} records\")"
   ]
  },
  {
   "cell_type": "markdown",
   "metadata": {},
   "source": [
    "### Create one data frame that contains just the content\n",
    "We will need one data frame to do our embedding. So we will concatenate our term and our answer data frames and limit them to just the content column.  \n",
    "Then we will add a \"tokens\" column that specifies how many tokens each text has."
   ]
  },
  {
   "cell_type": "code",
   "execution_count": 10,
   "metadata": {},
   "outputs": [
    {
     "name": "stdout",
     "output_type": "stream",
     "text": [
      "Total of 394 records \n",
      "\n"
     ]
    },
    {
     "data": {
      "text/html": [
       "<div>\n",
       "<style scoped>\n",
       "    .dataframe tbody tr th:only-of-type {\n",
       "        vertical-align: middle;\n",
       "    }\n",
       "\n",
       "    .dataframe tbody tr th {\n",
       "        vertical-align: top;\n",
       "    }\n",
       "\n",
       "    .dataframe thead th {\n",
       "        text-align: right;\n",
       "    }\n",
       "</style>\n",
       "<table border=\"1\" class=\"dataframe tex2jax_ignore\">\n",
       "  <thead>\n",
       "    <tr style=\"text-align: right;\">\n",
       "      <th></th>\n",
       "      <th>content</th>\n",
       "      <th>tokens</th>\n",
       "    </tr>\n",
       "  </thead>\n",
       "  <tbody>\n",
       "    <tr>\n",
       "      <th>0</th>\n",
       "      <td>A 5/1 adjustable rate mortgage (ARM) or 5-year ARM is a mortgage loan where \"5\" is the number of years your initial interest rate will stay fixed. The \"1\" represents how often your interest rate will adjust after the initial five-year period ends. The most common fixed periods are 3, 5, 7, and 10 years and \"1,\" is the most common adjustment period. It's important to carefully read the contract and ask questions if you're considering an ARM.</td>\n",
       "      <td>106</td>\n",
       "    </tr>\n",
       "    <tr>\n",
       "      <th>1</th>\n",
       "      <td>The ability-to-repay rule is the reasonable and good faith determination most mortgage lenders are required to make that you are able to pay back the loan.</td>\n",
       "      <td>31</td>\n",
       "    </tr>\n",
       "  </tbody>\n",
       "</table>\n",
       "</div>"
      ],
      "text/plain": [
       "                                                                                                                                                                                                                                                                                                                                                                                                                                                         content  \\\n",
       "0  A 5/1 adjustable rate mortgage (ARM) or 5-year ARM is a mortgage loan where \"5\" is the number of years your initial interest rate will stay fixed. The \"1\" represents how often your interest rate will adjust after the initial five-year period ends. The most common fixed periods are 3, 5, 7, and 10 years and \"1,\" is the most common adjustment period. It's important to carefully read the contract and ask questions if you're considering an ARM.    \n",
       "1                                                                                                                                                                                                                                                                                                   The ability-to-repay rule is the reasonable and good faith determination most mortgage lenders are required to make that you are able to pay back the loan.    \n",
       "\n",
       "   tokens  \n",
       "0     106  \n",
       "1      31  "
      ]
     },
     "execution_count": 10,
     "metadata": {},
     "output_type": "execute_result"
    }
   ],
   "source": [
    "# Concatenate the content columns and add a tokens counter column\n",
    "content_df = pd.concat(\n",
    "    [term_df[[\"content\"]], answer_df[[\"content\"]]],\n",
    "    ignore_index=True\n",
    ")\n",
    "content_df[\"tokens\"] = content_df.content.apply(count_tokens)\n",
    "\n",
    "print(f\"Total of {len(content_df)} records \\n\")\n",
    "content_df.head(2)"
   ]
  },
  {
   "cell_type": "code",
   "execution_count": 11,
   "metadata": {},
   "outputs": [],
   "source": [
    "# Save all dataframes\n",
    "term_save = \"../data/cfpb_key_terms.csv\"\n",
    "term_df.to_csv(term_save, index=False)\n",
    "\n",
    "answer_save = \"../data/cfpb_mortgage_questions.csv\"\n",
    "answer_df.to_csv(answer_save, index=False)\n",
    "\n",
    "content_save = \"../data/mortgage_context_text.csv\"\n",
    "content_df.to_csv(content_save, index=False)"
   ]
  },
  {
   "cell_type": "markdown",
   "metadata": {},
   "source": [
    "---"
   ]
  },
  {
   "cell_type": "code",
   "execution_count": 12,
   "metadata": {},
   "outputs": [
    {
     "data": {
      "text/html": [
       "<div>\n",
       "<style scoped>\n",
       "    .dataframe tbody tr th:only-of-type {\n",
       "        vertical-align: middle;\n",
       "    }\n",
       "\n",
       "    .dataframe tbody tr th {\n",
       "        vertical-align: top;\n",
       "    }\n",
       "\n",
       "    .dataframe thead th {\n",
       "        text-align: right;\n",
       "    }\n",
       "</style>\n",
       "<table border=\"1\" class=\"dataframe tex2jax_ignore\">\n",
       "  <thead>\n",
       "    <tr style=\"text-align: right;\">\n",
       "      <th></th>\n",
       "      <th>question</th>\n",
       "      <th>short_answer</th>\n",
       "      <th>long_answer</th>\n",
       "      <th>content</th>\n",
       "    </tr>\n",
       "  </thead>\n",
       "  <tbody>\n",
       "    <tr>\n",
       "      <th>121</th>\n",
       "      <td>I was told I'm buying a home that was flipped and that I have to get a second appraisal. How does that work?</td>\n",
       "      <td>If the home you're buying is considered a \"flip\" and you're getting a higher-priced mortgage loan covered under new mortgage rules, you will have to get a second appraisal.</td>\n",
       "      <td>A \"flip\" is when: You buy a home from a seller who bought the home less than six months ago and; You pay a certain amount more than the seller paid for the home:10 percent more if the seller bought the home within the past 90 days.20 percent more if the seller bought the home in the past 91 to 180 days. 10 percent more if the seller bought the home within the past 90 days. 20 percent more if the seller bought the home in the past 91 to 180 days. When you buy a \"flipped\" home, your lender must pay for a second appraisal of the home that includes an inside inspection. The lender cannot charge you for this second appraisal. Keep in mind that not all flips are subject to this requirement. For example, flips in rural areas are exempt because those areas might have fewer appraisers available. Also, properties acquired from a government agency are exempt. If you have a problem with your mortgage, you can submit a complaint with the CFPB online or by calling.</td>\n",
       "      <td>I was told I'm buying a home that was flipped and that I have to get a second appraisal. How does that work? If the home you're buying is considered a \"flip\" and you're getting a higher-priced mortgage loan covered under new mortgage rules, you will have to get a second appraisal. A \"flip\" is when: You buy a home from a seller who bought the home less than six months ago and; You pay a certain amount more than the seller paid for the home:10 percent more if the seller bought the home within the past 90 days.20 percent more if the seller bought the home in the past 91 to 180 days. 10 percent more if the seller bought the home within the past 90 days. 20 percent more if the seller bought the home in the past 91 to 180 days. When you buy a \"flipped\" home, your lender must pay for a second appraisal of the home that includes an inside inspection. The lender cannot charge you for this second appraisal. Keep in mind that not all flips are subject to this requirement. For example, flips in rural areas are exempt because those areas might have fewer appraisers available. Also, properties acquired from a government agency are exempt. If you have a problem with your mortgage, you can submit a complaint with the CFPB online or by calling.</td>\n",
       "    </tr>\n",
       "  </tbody>\n",
       "</table>\n",
       "</div>"
      ],
      "text/plain": [
       "                                                                                                         question  \\\n",
       "121  I was told I'm buying a home that was flipped and that I have to get a second appraisal. How does that work?   \n",
       "\n",
       "                                                                                                                                                                     short_answer  \\\n",
       "121  If the home you're buying is considered a \"flip\" and you're getting a higher-priced mortgage loan covered under new mortgage rules, you will have to get a second appraisal.   \n",
       "\n",
       "                                                                                                                                                                                                                                                                                                                                                                                                                                                                                                                                                                                                                                                                                                                                                                                                                                                                                                                                                                                               long_answer  \\\n",
       "121  A \"flip\" is when: You buy a home from a seller who bought the home less than six months ago and; You pay a certain amount more than the seller paid for the home:10 percent more if the seller bought the home within the past 90 days.20 percent more if the seller bought the home in the past 91 to 180 days. 10 percent more if the seller bought the home within the past 90 days. 20 percent more if the seller bought the home in the past 91 to 180 days. When you buy a \"flipped\" home, your lender must pay for a second appraisal of the home that includes an inside inspection. The lender cannot charge you for this second appraisal. Keep in mind that not all flips are subject to this requirement. For example, flips in rural areas are exempt because those areas might have fewer appraisers available. Also, properties acquired from a government agency are exempt. If you have a problem with your mortgage, you can submit a complaint with the CFPB online or by calling.   \n",
       "\n",
       "                                                                                                                                                                                                                                                                                                                                                                                                                                                                                                                                                                                                                                                                                                                                                                                                                                                                                                                                                                                                                                                                                                                                                                                                                                                                                             content  \n",
       "121  I was told I'm buying a home that was flipped and that I have to get a second appraisal. How does that work? If the home you're buying is considered a \"flip\" and you're getting a higher-priced mortgage loan covered under new mortgage rules, you will have to get a second appraisal. A \"flip\" is when: You buy a home from a seller who bought the home less than six months ago and; You pay a certain amount more than the seller paid for the home:10 percent more if the seller bought the home within the past 90 days.20 percent more if the seller bought the home in the past 91 to 180 days. 10 percent more if the seller bought the home within the past 90 days. 20 percent more if the seller bought the home in the past 91 to 180 days. When you buy a \"flipped\" home, your lender must pay for a second appraisal of the home that includes an inside inspection. The lender cannot charge you for this second appraisal. Keep in mind that not all flips are subject to this requirement. For example, flips in rural areas are exempt because those areas might have fewer appraisers available. Also, properties acquired from a government agency are exempt. If you have a problem with your mortgage, you can submit a complaint with the CFPB online or by calling.  "
      ]
     },
     "execution_count": 12,
     "metadata": {},
     "output_type": "execute_result"
    }
   ],
   "source": [
    "answer_df[answer_df.question.str.contains(\"flipped and that I have to get a second appraisal\")]"
   ]
  },
  {
   "cell_type": "code",
   "execution_count": 13,
   "metadata": {},
   "outputs": [
    {
     "data": {
      "text/html": [
       "<div>\n",
       "<style scoped>\n",
       "    .dataframe tbody tr th:only-of-type {\n",
       "        vertical-align: middle;\n",
       "    }\n",
       "\n",
       "    .dataframe tbody tr th {\n",
       "        vertical-align: top;\n",
       "    }\n",
       "\n",
       "    .dataframe thead th {\n",
       "        text-align: right;\n",
       "    }\n",
       "</style>\n",
       "<table border=\"1\" class=\"dataframe tex2jax_ignore\">\n",
       "  <thead>\n",
       "    <tr style=\"text-align: right;\">\n",
       "      <th></th>\n",
       "      <th>question</th>\n",
       "      <th>short_answer</th>\n",
       "      <th>long_answer</th>\n",
       "    </tr>\n",
       "  </thead>\n",
       "  <tbody>\n",
       "    <tr>\n",
       "      <th>count</th>\n",
       "      <td>240.00</td>\n",
       "      <td>240.00</td>\n",
       "      <td>240.00</td>\n",
       "    </tr>\n",
       "    <tr>\n",
       "      <th>mean</th>\n",
       "      <td>19.14</td>\n",
       "      <td>30.05</td>\n",
       "      <td>300.63</td>\n",
       "    </tr>\n",
       "    <tr>\n",
       "      <th>std</th>\n",
       "      <td>9.10</td>\n",
       "      <td>14.64</td>\n",
       "      <td>235.67</td>\n",
       "    </tr>\n",
       "    <tr>\n",
       "      <th>min</th>\n",
       "      <td>5.00</td>\n",
       "      <td>0.00</td>\n",
       "      <td>18.00</td>\n",
       "    </tr>\n",
       "    <tr>\n",
       "      <th>25%</th>\n",
       "      <td>13.00</td>\n",
       "      <td>20.00</td>\n",
       "      <td>129.25</td>\n",
       "    </tr>\n",
       "    <tr>\n",
       "      <th>50%</th>\n",
       "      <td>17.00</td>\n",
       "      <td>29.00</td>\n",
       "      <td>263.00</td>\n",
       "    </tr>\n",
       "    <tr>\n",
       "      <th>75%</th>\n",
       "      <td>23.25</td>\n",
       "      <td>39.00</td>\n",
       "      <td>396.50</td>\n",
       "    </tr>\n",
       "    <tr>\n",
       "      <th>max</th>\n",
       "      <td>59.00</td>\n",
       "      <td>81.00</td>\n",
       "      <td>1512.00</td>\n",
       "    </tr>\n",
       "  </tbody>\n",
       "</table>\n",
       "</div>"
      ],
      "text/plain": [
       "       question  short_answer  long_answer\n",
       "count    240.00        240.00       240.00\n",
       "mean      19.14         30.05       300.63\n",
       "std        9.10         14.64       235.67\n",
       "min        5.00          0.00        18.00\n",
       "25%       13.00         20.00       129.25\n",
       "50%       17.00         29.00       263.00\n",
       "75%       23.25         39.00       396.50\n",
       "max       59.00         81.00      1512.00"
      ]
     },
     "execution_count": 13,
     "metadata": {},
     "output_type": "execute_result"
    }
   ],
   "source": [
    "token_df = answer_df.drop(columns=[\"content\"]).drop_duplicates().applymap(count_tokens)\n",
    "token_df.describe().round(2)"
   ]
  },
  {
   "cell_type": "code",
   "execution_count": 14,
   "metadata": {},
   "outputs": [
    {
     "data": {
      "text/html": [
       "<div>\n",
       "<style scoped>\n",
       "    .dataframe tbody tr th:only-of-type {\n",
       "        vertical-align: middle;\n",
       "    }\n",
       "\n",
       "    .dataframe tbody tr th {\n",
       "        vertical-align: top;\n",
       "    }\n",
       "\n",
       "    .dataframe thead th {\n",
       "        text-align: right;\n",
       "    }\n",
       "</style>\n",
       "<table border=\"1\" class=\"dataframe tex2jax_ignore\">\n",
       "  <thead>\n",
       "    <tr style=\"text-align: right;\">\n",
       "      <th></th>\n",
       "      <th>question</th>\n",
       "      <th>short_answer</th>\n",
       "      <th>long_answer</th>\n",
       "    </tr>\n",
       "  </thead>\n",
       "  <tbody>\n",
       "    <tr>\n",
       "      <th>140</th>\n",
       "      <td>18</td>\n",
       "      <td>30</td>\n",
       "      <td>18</td>\n",
       "    </tr>\n",
       "  </tbody>\n",
       "</table>\n",
       "</div>"
      ],
      "text/plain": [
       "     question  short_answer  long_answer\n",
       "140        18            30           18"
      ]
     },
     "execution_count": 14,
     "metadata": {},
     "output_type": "execute_result"
    }
   ],
   "source": [
    "token_df[token_df.long_answer.lt(20)]"
   ]
  },
  {
   "cell_type": "code",
   "execution_count": 15,
   "metadata": {},
   "outputs": [
    {
     "data": {
      "text/html": [
       "<div>\n",
       "<style scoped>\n",
       "    .dataframe tbody tr th:only-of-type {\n",
       "        vertical-align: middle;\n",
       "    }\n",
       "\n",
       "    .dataframe tbody tr th {\n",
       "        vertical-align: top;\n",
       "    }\n",
       "\n",
       "    .dataframe thead th {\n",
       "        text-align: right;\n",
       "    }\n",
       "</style>\n",
       "<table border=\"1\" class=\"dataframe tex2jax_ignore\">\n",
       "  <thead>\n",
       "    <tr style=\"text-align: right;\">\n",
       "      <th></th>\n",
       "      <th>question</th>\n",
       "      <th>short_answer</th>\n",
       "      <th>long_answer</th>\n",
       "      <th>content</th>\n",
       "    </tr>\n",
       "  </thead>\n",
       "  <tbody>\n",
       "    <tr>\n",
       "      <th>140</th>\n",
       "      <td>I was told that I was too young to get a mortgage loan. Is this possible?</td>\n",
       "      <td>A creditor such as a lender or broker cannot discriminate against a credit applicant because of age unless the applicant is too young to legally enter into a contract.</td>\n",
       "      <td>State law governs the age at which an individual can enter into a legally binding contract.</td>\n",
       "      <td>I was told that I was too young to get a mortgage loan. Is this possible? A creditor such as a lender or broker cannot discriminate against a credit applicant because of age unless the applicant is too young to legally enter into a contract. State law governs the age at which an individual can enter into a legally binding contract.</td>\n",
       "    </tr>\n",
       "  </tbody>\n",
       "</table>\n",
       "</div>"
      ],
      "text/plain": [
       "                                                                      question  \\\n",
       "140  I was told that I was too young to get a mortgage loan. Is this possible?   \n",
       "\n",
       "                                                                                                                                                                short_answer  \\\n",
       "140  A creditor such as a lender or broker cannot discriminate against a credit applicant because of age unless the applicant is too young to legally enter into a contract.   \n",
       "\n",
       "                                                                                     long_answer  \\\n",
       "140  State law governs the age at which an individual can enter into a legally binding contract.   \n",
       "\n",
       "                                                                                                                                                                                                                                                                                                                                           content  \n",
       "140  I was told that I was too young to get a mortgage loan. Is this possible? A creditor such as a lender or broker cannot discriminate against a credit applicant because of age unless the applicant is too young to legally enter into a contract. State law governs the age at which an individual can enter into a legally binding contract.  "
      ]
     },
     "execution_count": 15,
     "metadata": {},
     "output_type": "execute_result"
    }
   ],
   "source": [
    "answer_df.loc[[140]]"
   ]
  }
 ],
 "metadata": {
  "kernelspec": {
   "display_name": "Python 3",
   "language": "python",
   "name": "python3"
  },
  "language_info": {
   "codemirror_mode": {
    "name": "ipython",
    "version": 3
   },
   "file_extension": ".py",
   "mimetype": "text/x-python",
   "name": "python",
   "nbconvert_exporter": "python",
   "pygments_lexer": "ipython3",
   "version": "3.8.5"
  },
  "widgets": {
   "application/vnd.jupyter.widget-state+json": {
    "state": {
     "03fd9b969bcd4f2b9da3a7ba5f4add8b": {
      "model_module": "@jupyter-widgets/controls",
      "model_module_version": "1.5.0",
      "model_name": "HTMLModel",
      "state": {
       "layout": "IPY_MODEL_77b2bb8333414579a46ceeabe47d194b",
       "style": "IPY_MODEL_f62b6f0e76b640fc8fda39ab5567a461",
       "value": "Scraping: 100%"
      }
     },
     "083057d2ceba463798ee133b743f88c3": {
      "model_module": "@jupyter-widgets/base",
      "model_module_version": "1.2.0",
      "model_name": "LayoutModel",
      "state": {}
     },
     "098379a1f2e2440dae306bc91960e5a0": {
      "model_module": "@jupyter-widgets/controls",
      "model_module_version": "1.5.0",
      "model_name": "DescriptionStyleModel",
      "state": {
       "description_width": ""
      }
     },
     "0b868851e4104810a5d11858a1c6094b": {
      "model_module": "@jupyter-widgets/controls",
      "model_module_version": "1.5.0",
      "model_name": "HTMLModel",
      "state": {
       "layout": "IPY_MODEL_35d57ffa42b24a9c811aa871cf6526c3",
       "style": "IPY_MODEL_3e0acf1a49db418499e9532aca9841ef",
       "value": " 32/103 [00:48&lt;01:58,  1.67s/it]"
      }
     },
     "0c426b1c88fb4f8db6d341fedd38b8c6": {
      "model_module": "@jupyter-widgets/base",
      "model_module_version": "1.2.0",
      "model_name": "LayoutModel",
      "state": {}
     },
     "0dc0a1cbb0da4f62a71cfe6068a54cd3": {
      "model_module": "@jupyter-widgets/base",
      "model_module_version": "1.2.0",
      "model_name": "LayoutModel",
      "state": {}
     },
     "10388e9753c44909a6425c7eb5e0de24": {
      "model_module": "@jupyter-widgets/base",
      "model_module_version": "1.2.0",
      "model_name": "LayoutModel",
      "state": {}
     },
     "10eda5c571f44cbab9b858438e9329cf": {
      "model_module": "@jupyter-widgets/base",
      "model_module_version": "1.2.0",
      "model_name": "LayoutModel",
      "state": {}
     },
     "11f0b831a8184149acf8f0cca3c85ca0": {
      "model_module": "@jupyter-widgets/base",
      "model_module_version": "1.2.0",
      "model_name": "LayoutModel",
      "state": {}
     },
     "1277b6b041a34020aa16ff23b2221ed4": {
      "model_module": "@jupyter-widgets/controls",
      "model_module_version": "1.5.0",
      "model_name": "HBoxModel",
      "state": {
       "children": [
        "IPY_MODEL_a5b6f73218e14744b0ae3d864d64a90c",
        "IPY_MODEL_52449ea2a8b8462589e2715afd1f4fb3",
        "IPY_MODEL_44893ee180a74ddaadde11ef32ac6b54"
       ],
       "layout": "IPY_MODEL_41d95b03a72e41b685208546ca6f085a"
      }
     },
     "165b3c14b3df43f8a68b8e3abaf1a8e7": {
      "model_module": "@jupyter-widgets/controls",
      "model_module_version": "1.5.0",
      "model_name": "DescriptionStyleModel",
      "state": {
       "description_width": ""
      }
     },
     "189c89dd795d4bf3b874055cf4fdbc8f": {
      "model_module": "@jupyter-widgets/controls",
      "model_module_version": "1.5.0",
      "model_name": "ProgressStyleModel",
      "state": {
       "description_width": ""
      }
     },
     "191ad57c94624400878ef4fbc343a0a3": {
      "model_module": "@jupyter-widgets/base",
      "model_module_version": "1.2.0",
      "model_name": "LayoutModel",
      "state": {}
     },
     "19d9013569c44a34bcf99675494c85b4": {
      "model_module": "@jupyter-widgets/controls",
      "model_module_version": "1.5.0",
      "model_name": "ProgressStyleModel",
      "state": {
       "description_width": ""
      }
     },
     "1dc73bb29cf34d9780a3f014caf4cb25": {
      "model_module": "@jupyter-widgets/controls",
      "model_module_version": "1.5.0",
      "model_name": "DescriptionStyleModel",
      "state": {
       "description_width": ""
      }
     },
     "1e0a20236fd146ac971c74ba90da6885": {
      "model_module": "@jupyter-widgets/controls",
      "model_module_version": "1.5.0",
      "model_name": "ProgressStyleModel",
      "state": {
       "description_width": ""
      }
     },
     "215e704ddac042b2a4597e6869c08f55": {
      "model_module": "@jupyter-widgets/controls",
      "model_module_version": "1.5.0",
      "model_name": "HTMLModel",
      "state": {
       "layout": "IPY_MODEL_552c29d8970b40e9a70b8cc6ee1d83e8",
       "style": "IPY_MODEL_fd03acb9d81947b0be1bb72a096b515e",
       "value": " 313/313 [03:16&lt;00:00,  1.55it/s]"
      }
     },
     "25bba57420154644bad4a0340bbe8405": {
      "model_module": "@jupyter-widgets/controls",
      "model_module_version": "1.5.0",
      "model_name": "HBoxModel",
      "state": {
       "children": [
        "IPY_MODEL_690e59bbd43b47eba2ad68990d57cbbe",
        "IPY_MODEL_ba01e8b58b974081acd04958e5577f17",
        "IPY_MODEL_ce6751eb82774e67952705c1af82feb1"
       ],
       "layout": "IPY_MODEL_73e5ae40eb284d5db988a0d4f8fca03b"
      }
     },
     "2a61a11d789449b28b5316614c052811": {
      "model_module": "@jupyter-widgets/controls",
      "model_module_version": "1.5.0",
      "model_name": "HTMLModel",
      "state": {
       "layout": "IPY_MODEL_0c426b1c88fb4f8db6d341fedd38b8c6",
       "style": "IPY_MODEL_619c7e5b92104fe8b2d600e7ca61620d",
       "value": " 313/313 [04:41&lt;00:00,  1.15it/s]"
      }
     },
     "2af5de5168414c72833a3cb33ea1cbef": {
      "model_module": "@jupyter-widgets/controls",
      "model_module_version": "1.5.0",
      "model_name": "HBoxModel",
      "state": {
       "children": [
        "IPY_MODEL_d9f5be04e67841498f415f1dee6be800",
        "IPY_MODEL_cfa557e6bcbc46959592f6da042d19eb",
        "IPY_MODEL_215e704ddac042b2a4597e6869c08f55"
       ],
       "layout": "IPY_MODEL_8688dd9e46ad47d7b54283e33cdafcf2"
      }
     },
     "2b5b9c5a912644268b09e6037aa1bfd3": {
      "model_module": "@jupyter-widgets/base",
      "model_module_version": "1.2.0",
      "model_name": "LayoutModel",
      "state": {}
     },
     "2c5dca95c7fe4a8cbc64c4a6cff25e34": {
      "model_module": "@jupyter-widgets/base",
      "model_module_version": "1.2.0",
      "model_name": "LayoutModel",
      "state": {}
     },
     "2ef0eaf7d52145c8b06fb394c4813c95": {
      "model_module": "@jupyter-widgets/controls",
      "model_module_version": "1.5.0",
      "model_name": "ProgressStyleModel",
      "state": {
       "description_width": ""
      }
     },
     "35d57ffa42b24a9c811aa871cf6526c3": {
      "model_module": "@jupyter-widgets/base",
      "model_module_version": "1.2.0",
      "model_name": "LayoutModel",
      "state": {}
     },
     "3745b7be02e14da3ad94ae56711b784b": {
      "model_module": "@jupyter-widgets/controls",
      "model_module_version": "1.5.0",
      "model_name": "ProgressStyleModel",
      "state": {
       "description_width": ""
      }
     },
     "3e0acf1a49db418499e9532aca9841ef": {
      "model_module": "@jupyter-widgets/controls",
      "model_module_version": "1.5.0",
      "model_name": "DescriptionStyleModel",
      "state": {
       "description_width": ""
      }
     },
     "3ecc67f5de484367b1f2ed2a09339c2e": {
      "model_module": "@jupyter-widgets/controls",
      "model_module_version": "1.5.0",
      "model_name": "HTMLModel",
      "state": {
       "layout": "IPY_MODEL_191ad57c94624400878ef4fbc343a0a3",
       "style": "IPY_MODEL_c430a897104c4c678d5c3207c3fc2e98",
       "value": " 1/1 [00:02&lt;00:00,  2.05s/it]"
      }
     },
     "3f9263538b3f486e83c4275a8f37e979": {
      "model_module": "@jupyter-widgets/controls",
      "model_module_version": "1.5.0",
      "model_name": "HTMLModel",
      "state": {
       "layout": "IPY_MODEL_bb4b90869ffa476da45091af72a1d753",
       "style": "IPY_MODEL_806901d5f1f341faba9fd30d6f4b5b32",
       "value": "Scraping: 100%"
      }
     },
     "404cee5454ec4abaa55f6fdb650f4239": {
      "model_module": "@jupyter-widgets/controls",
      "model_module_version": "1.5.0",
      "model_name": "DescriptionStyleModel",
      "state": {
       "description_width": ""
      }
     },
     "41d95b03a72e41b685208546ca6f085a": {
      "model_module": "@jupyter-widgets/base",
      "model_module_version": "1.2.0",
      "model_name": "LayoutModel",
      "state": {}
     },
     "429a97ef6e5c44f3bdb7a24152fc1211": {
      "model_module": "@jupyter-widgets/base",
      "model_module_version": "1.2.0",
      "model_name": "LayoutModel",
      "state": {}
     },
     "44893ee180a74ddaadde11ef32ac6b54": {
      "model_module": "@jupyter-widgets/controls",
      "model_module_version": "1.5.0",
      "model_name": "HTMLModel",
      "state": {
       "layout": "IPY_MODEL_c928566c96184edfa1cada55e7382347",
       "style": "IPY_MODEL_6c480754437f4f83b250b939ebf7ccb0",
       "value": " 313/313 [05:46&lt;00:00,  1.09s/it]"
      }
     },
     "4d16cb6d0d624af3b7d6024781faec44": {
      "model_module": "@jupyter-widgets/base",
      "model_module_version": "1.2.0",
      "model_name": "LayoutModel",
      "state": {}
     },
     "50f8dac842a1464f94556f84223a479a": {
      "model_module": "@jupyter-widgets/base",
      "model_module_version": "1.2.0",
      "model_name": "LayoutModel",
      "state": {}
     },
     "52449ea2a8b8462589e2715afd1f4fb3": {
      "model_module": "@jupyter-widgets/controls",
      "model_module_version": "1.5.0",
      "model_name": "FloatProgressModel",
      "state": {
       "bar_style": "success",
       "layout": "IPY_MODEL_ab320bdd93ec4e0bacfc5a4b75cabe7d",
       "max": 313,
       "style": "IPY_MODEL_d45294a3247743ecb50dcd327b1cc6b6",
       "value": 313
      }
     },
     "52aac30b16514ed8a571b0b8632ceaba": {
      "model_module": "@jupyter-widgets/base",
      "model_module_version": "1.2.0",
      "model_name": "LayoutModel",
      "state": {}
     },
     "5318d3d288b3408b8b273856de1fb44e": {
      "model_module": "@jupyter-widgets/controls",
      "model_module_version": "1.5.0",
      "model_name": "HTMLModel",
      "state": {
       "layout": "IPY_MODEL_ba46483928bd47549b4d79e595df5ef2",
       "style": "IPY_MODEL_a92c9f1039f24517ba06bb9a82d60eac",
       "value": " 313/313 [12:47&lt;00:00,  2.45s/it]"
      }
     },
     "548a04eff6ec447c86f08b484097ecd6": {
      "model_module": "@jupyter-widgets/controls",
      "model_module_version": "1.5.0",
      "model_name": "HTMLModel",
      "state": {
       "layout": "IPY_MODEL_f755c085dd4840a882e810657678c2a1",
       "style": "IPY_MODEL_98d514a62aaf42b3ac0dfae7cac4fb12",
       "value": " 1/1 [00:00&lt;00:00, 46.76it/s]"
      }
     },
     "552c29d8970b40e9a70b8cc6ee1d83e8": {
      "model_module": "@jupyter-widgets/base",
      "model_module_version": "1.2.0",
      "model_name": "LayoutModel",
      "state": {}
     },
     "566fd8ce098d461bab84b4115ac89c33": {
      "model_module": "@jupyter-widgets/base",
      "model_module_version": "1.2.0",
      "model_name": "LayoutModel",
      "state": {}
     },
     "57d98e8a1e8542e58dfb6c7833959339": {
      "model_module": "@jupyter-widgets/controls",
      "model_module_version": "1.5.0",
      "model_name": "FloatProgressModel",
      "state": {
       "bar_style": "danger",
       "layout": "IPY_MODEL_f1c968e52930486b9e1e6c7fc31d0c95",
       "max": 103,
       "style": "IPY_MODEL_189c89dd795d4bf3b874055cf4fdbc8f",
       "value": 32
      }
     },
     "5aa6a3439bb242879edb4fb695bd449a": {
      "model_module": "@jupyter-widgets/controls",
      "model_module_version": "1.5.0",
      "model_name": "DescriptionStyleModel",
      "state": {
       "description_width": ""
      }
     },
     "5b2f4951e2224f3e9e328cfcc5bc71cb": {
      "model_module": "@jupyter-widgets/controls",
      "model_module_version": "1.5.0",
      "model_name": "HTMLModel",
      "state": {
       "layout": "IPY_MODEL_8a0a3e0b627c460f849e57cf7784a51c",
       "style": "IPY_MODEL_aabded1ab4c84df8b9d6f26c4515b642",
       "value": " 313/313 [05:50&lt;00:00,  1.05it/s]"
      }
     },
     "5ccff2ebb0dd419d9ed8105019414f19": {
      "model_module": "@jupyter-widgets/controls",
      "model_module_version": "1.5.0",
      "model_name": "HTMLModel",
      "state": {
       "layout": "IPY_MODEL_50f8dac842a1464f94556f84223a479a",
       "style": "IPY_MODEL_88965d529e194b14aa1db45ebfb807e0",
       "value": "Scraping: 100%"
      }
     },
     "5e8b12871cc54848a917ceb1eb2d3285": {
      "model_module": "@jupyter-widgets/controls",
      "model_module_version": "1.5.0",
      "model_name": "HBoxModel",
      "state": {
       "children": [
        "IPY_MODEL_3f9263538b3f486e83c4275a8f37e979",
        "IPY_MODEL_c2b375c745d646108d6379024e252d26",
        "IPY_MODEL_5318d3d288b3408b8b273856de1fb44e"
       ],
       "layout": "IPY_MODEL_10eda5c571f44cbab9b858438e9329cf"
      }
     },
     "602574153f6649e192c3c43ea8f47592": {
      "model_module": "@jupyter-widgets/controls",
      "model_module_version": "1.5.0",
      "model_name": "ProgressStyleModel",
      "state": {
       "description_width": ""
      }
     },
     "619c7e5b92104fe8b2d600e7ca61620d": {
      "model_module": "@jupyter-widgets/controls",
      "model_module_version": "1.5.0",
      "model_name": "DescriptionStyleModel",
      "state": {
       "description_width": ""
      }
     },
     "63bcfe4f1a4b4d3ca7266d8e25783ef4": {
      "model_module": "@jupyter-widgets/controls",
      "model_module_version": "1.5.0",
      "model_name": "HTMLModel",
      "state": {
       "layout": "IPY_MODEL_efbe9d5a0bc5493cb3d376be6728ece5",
       "style": "IPY_MODEL_adffca8094e04815840f814b23c7ff65",
       "value": "Scraping:  30%"
      }
     },
     "664264d61be5422c83cce1ebf2ac0156": {
      "model_module": "@jupyter-widgets/controls",
      "model_module_version": "1.5.0",
      "model_name": "HTMLModel",
      "state": {
       "layout": "IPY_MODEL_9d614a79f3d443e1bd922470c2a8db75",
       "style": "IPY_MODEL_5aa6a3439bb242879edb4fb695bd449a",
       "value": "Scraping: 100%"
      }
     },
     "690e59bbd43b47eba2ad68990d57cbbe": {
      "model_module": "@jupyter-widgets/controls",
      "model_module_version": "1.5.0",
      "model_name": "HTMLModel",
      "state": {
       "layout": "IPY_MODEL_52aac30b16514ed8a571b0b8632ceaba",
       "style": "IPY_MODEL_1dc73bb29cf34d9780a3f014caf4cb25",
       "value": "Scraping: 100%"
      }
     },
     "6925b7126e114560a6e69ec196973fb5": {
      "model_module": "@jupyter-widgets/base",
      "model_module_version": "1.2.0",
      "model_name": "LayoutModel",
      "state": {}
     },
     "6c480754437f4f83b250b939ebf7ccb0": {
      "model_module": "@jupyter-widgets/controls",
      "model_module_version": "1.5.0",
      "model_name": "DescriptionStyleModel",
      "state": {
       "description_width": ""
      }
     },
     "707f571429d74d67bc1066bffb7cbc53": {
      "model_module": "@jupyter-widgets/base",
      "model_module_version": "1.2.0",
      "model_name": "LayoutModel",
      "state": {}
     },
     "70fc575f42ac47e09cbdcf82931154b8": {
      "model_module": "@jupyter-widgets/controls",
      "model_module_version": "1.5.0",
      "model_name": "FloatProgressModel",
      "state": {
       "bar_style": "success",
       "layout": "IPY_MODEL_8445ba84a3574a4b92056ceee431c18b",
       "max": 1,
       "style": "IPY_MODEL_e03d071e59bd482382953719844aed09",
       "value": 1
      }
     },
     "72b03ae0183f4906b93cb5ffb7e7dfc0": {
      "model_module": "@jupyter-widgets/controls",
      "model_module_version": "1.5.0",
      "model_name": "FloatProgressModel",
      "state": {
       "bar_style": "success",
       "layout": "IPY_MODEL_2b5b9c5a912644268b09e6037aa1bfd3",
       "max": 313,
       "style": "IPY_MODEL_1e0a20236fd146ac971c74ba90da6885",
       "value": 313
      }
     },
     "73e5ae40eb284d5db988a0d4f8fca03b": {
      "model_module": "@jupyter-widgets/base",
      "model_module_version": "1.2.0",
      "model_name": "LayoutModel",
      "state": {}
     },
     "77b2bb8333414579a46ceeabe47d194b": {
      "model_module": "@jupyter-widgets/base",
      "model_module_version": "1.2.0",
      "model_name": "LayoutModel",
      "state": {}
     },
     "7d0cc23e1d4e4ab99a4f180a3e76fe33": {
      "model_module": "@jupyter-widgets/base",
      "model_module_version": "1.2.0",
      "model_name": "LayoutModel",
      "state": {}
     },
     "7ea7e41ad5544dc5a2049927fcaa26f0": {
      "model_module": "@jupyter-widgets/controls",
      "model_module_version": "1.5.0",
      "model_name": "ProgressStyleModel",
      "state": {
       "description_width": ""
      }
     },
     "806901d5f1f341faba9fd30d6f4b5b32": {
      "model_module": "@jupyter-widgets/controls",
      "model_module_version": "1.5.0",
      "model_name": "DescriptionStyleModel",
      "state": {
       "description_width": ""
      }
     },
     "8445ba84a3574a4b92056ceee431c18b": {
      "model_module": "@jupyter-widgets/base",
      "model_module_version": "1.2.0",
      "model_name": "LayoutModel",
      "state": {}
     },
     "8688dd9e46ad47d7b54283e33cdafcf2": {
      "model_module": "@jupyter-widgets/base",
      "model_module_version": "1.2.0",
      "model_name": "LayoutModel",
      "state": {}
     },
     "88965d529e194b14aa1db45ebfb807e0": {
      "model_module": "@jupyter-widgets/controls",
      "model_module_version": "1.5.0",
      "model_name": "DescriptionStyleModel",
      "state": {
       "description_width": ""
      }
     },
     "88991383fe35409d8c7a8b904af899ae": {
      "model_module": "@jupyter-widgets/base",
      "model_module_version": "1.2.0",
      "model_name": "LayoutModel",
      "state": {}
     },
     "8a0a3e0b627c460f849e57cf7784a51c": {
      "model_module": "@jupyter-widgets/base",
      "model_module_version": "1.2.0",
      "model_name": "LayoutModel",
      "state": {}
     },
     "8f3e1247998f482f8502234186dea54b": {
      "model_module": "@jupyter-widgets/controls",
      "model_module_version": "1.5.0",
      "model_name": "HTMLModel",
      "state": {
       "layout": "IPY_MODEL_0dc0a1cbb0da4f62a71cfe6068a54cd3",
       "style": "IPY_MODEL_165b3c14b3df43f8a68b8e3abaf1a8e7",
       "value": "Scraping: 100%"
      }
     },
     "9041bfaf4f834a098ed942760f0bed3c": {
      "model_module": "@jupyter-widgets/base",
      "model_module_version": "1.2.0",
      "model_name": "LayoutModel",
      "state": {}
     },
     "90623fcb1a154cd5b660277073869be5": {
      "model_module": "@jupyter-widgets/controls",
      "model_module_version": "1.5.0",
      "model_name": "ProgressStyleModel",
      "state": {
       "description_width": ""
      }
     },
     "98d514a62aaf42b3ac0dfae7cac4fb12": {
      "model_module": "@jupyter-widgets/controls",
      "model_module_version": "1.5.0",
      "model_name": "DescriptionStyleModel",
      "state": {
       "description_width": ""
      }
     },
     "9ccd7a3921f34177864b9fc13d43d07a": {
      "model_module": "@jupyter-widgets/controls",
      "model_module_version": "1.5.0",
      "model_name": "FloatProgressModel",
      "state": {
       "bar_style": "success",
       "layout": "IPY_MODEL_a92fe6576c9e414e90880c1418c75bb2",
       "max": 1,
       "style": "IPY_MODEL_602574153f6649e192c3c43ea8f47592",
       "value": 1
      }
     },
     "9d614a79f3d443e1bd922470c2a8db75": {
      "model_module": "@jupyter-widgets/base",
      "model_module_version": "1.2.0",
      "model_name": "LayoutModel",
      "state": {}
     },
     "9e345ad79aff425da86c1ba77b289b94": {
      "model_module": "@jupyter-widgets/controls",
      "model_module_version": "1.5.0",
      "model_name": "FloatProgressModel",
      "state": {
       "bar_style": "danger",
       "layout": "IPY_MODEL_9041bfaf4f834a098ed942760f0bed3c",
       "max": 313,
       "style": "IPY_MODEL_19d9013569c44a34bcf99675494c85b4",
       "value": 93
      }
     },
     "a10149bdbb71431f9390ed7dda11fc0a": {
      "model_module": "@jupyter-widgets/controls",
      "model_module_version": "1.5.0",
      "model_name": "HBoxModel",
      "state": {
       "children": [
        "IPY_MODEL_dca96ddee59e4887bc4fbda5b0358b23",
        "IPY_MODEL_57d98e8a1e8542e58dfb6c7833959339",
        "IPY_MODEL_0b868851e4104810a5d11858a1c6094b"
       ],
       "layout": "IPY_MODEL_2c5dca95c7fe4a8cbc64c4a6cff25e34"
      }
     },
     "a111f274140c4f9f8473fc0c1bbce1f4": {
      "model_module": "@jupyter-widgets/controls",
      "model_module_version": "1.5.0",
      "model_name": "HBoxModel",
      "state": {
       "children": [
        "IPY_MODEL_63bcfe4f1a4b4d3ca7266d8e25783ef4",
        "IPY_MODEL_9e345ad79aff425da86c1ba77b289b94",
        "IPY_MODEL_d3849fba6e3d492a86e3c2fb7afae01a"
       ],
       "layout": "IPY_MODEL_10388e9753c44909a6425c7eb5e0de24"
      }
     },
     "a3e1d3ea4c0444ecbc2ef6ab93a614ab": {
      "model_module": "@jupyter-widgets/controls",
      "model_module_version": "1.5.0",
      "model_name": "DescriptionStyleModel",
      "state": {
       "description_width": ""
      }
     },
     "a42e32dd3eac4061aeb8bed833a64ea1": {
      "model_module": "@jupyter-widgets/controls",
      "model_module_version": "1.5.0",
      "model_name": "HBoxModel",
      "state": {
       "children": [
        "IPY_MODEL_664264d61be5422c83cce1ebf2ac0156",
        "IPY_MODEL_9ccd7a3921f34177864b9fc13d43d07a",
        "IPY_MODEL_3ecc67f5de484367b1f2ed2a09339c2e"
       ],
       "layout": "IPY_MODEL_429a97ef6e5c44f3bdb7a24152fc1211"
      }
     },
     "a50d9806497e45a5b54085e1258c8e17": {
      "model_module": "@jupyter-widgets/controls",
      "model_module_version": "1.5.0",
      "model_name": "HBoxModel",
      "state": {
       "children": [
        "IPY_MODEL_5ccff2ebb0dd419d9ed8105019414f19",
        "IPY_MODEL_ebe2a2cf08124a93a20aed82d58ea9f6",
        "IPY_MODEL_eb0b5f19bd474e849974aee64a9f8d95"
       ],
       "layout": "IPY_MODEL_4d16cb6d0d624af3b7d6024781faec44"
      }
     },
     "a5b6f73218e14744b0ae3d864d64a90c": {
      "model_module": "@jupyter-widgets/controls",
      "model_module_version": "1.5.0",
      "model_name": "HTMLModel",
      "state": {
       "layout": "IPY_MODEL_707f571429d74d67bc1066bffb7cbc53",
       "style": "IPY_MODEL_098379a1f2e2440dae306bc91960e5a0",
       "value": "Scraping: 100%"
      }
     },
     "a828f707aba44f27a45b36e1e3a811f2": {
      "model_module": "@jupyter-widgets/base",
      "model_module_version": "1.2.0",
      "model_name": "LayoutModel",
      "state": {}
     },
     "a92c9f1039f24517ba06bb9a82d60eac": {
      "model_module": "@jupyter-widgets/controls",
      "model_module_version": "1.5.0",
      "model_name": "DescriptionStyleModel",
      "state": {
       "description_width": ""
      }
     },
     "a92fe6576c9e414e90880c1418c75bb2": {
      "model_module": "@jupyter-widgets/base",
      "model_module_version": "1.2.0",
      "model_name": "LayoutModel",
      "state": {}
     },
     "aabded1ab4c84df8b9d6f26c4515b642": {
      "model_module": "@jupyter-widgets/controls",
      "model_module_version": "1.5.0",
      "model_name": "DescriptionStyleModel",
      "state": {
       "description_width": ""
      }
     },
     "ab320bdd93ec4e0bacfc5a4b75cabe7d": {
      "model_module": "@jupyter-widgets/base",
      "model_module_version": "1.2.0",
      "model_name": "LayoutModel",
      "state": {}
     },
     "adffca8094e04815840f814b23c7ff65": {
      "model_module": "@jupyter-widgets/controls",
      "model_module_version": "1.5.0",
      "model_name": "DescriptionStyleModel",
      "state": {
       "description_width": ""
      }
     },
     "ae9154306aa74808ab9ba6c38ee5ef82": {
      "model_module": "@jupyter-widgets/controls",
      "model_module_version": "1.5.0",
      "model_name": "ProgressStyleModel",
      "state": {
       "description_width": ""
      }
     },
     "b2d0b555fa624bec9dc781857a0d97d0": {
      "model_module": "@jupyter-widgets/base",
      "model_module_version": "1.2.0",
      "model_name": "LayoutModel",
      "state": {}
     },
     "ba01e8b58b974081acd04958e5577f17": {
      "model_module": "@jupyter-widgets/controls",
      "model_module_version": "1.5.0",
      "model_name": "FloatProgressModel",
      "state": {
       "bar_style": "success",
       "layout": "IPY_MODEL_566fd8ce098d461bab84b4115ac89c33",
       "max": 1,
       "style": "IPY_MODEL_3745b7be02e14da3ad94ae56711b784b",
       "value": 1
      }
     },
     "ba46483928bd47549b4d79e595df5ef2": {
      "model_module": "@jupyter-widgets/base",
      "model_module_version": "1.2.0",
      "model_name": "LayoutModel",
      "state": {}
     },
     "bb4b90869ffa476da45091af72a1d753": {
      "model_module": "@jupyter-widgets/base",
      "model_module_version": "1.2.0",
      "model_name": "LayoutModel",
      "state": {}
     },
     "bc4dc6e6a3ed412997929e2ce42173b8": {
      "model_module": "@jupyter-widgets/controls",
      "model_module_version": "1.5.0",
      "model_name": "DescriptionStyleModel",
      "state": {
       "description_width": ""
      }
     },
     "be509e050ac94900a3b37bacedd706d2": {
      "model_module": "@jupyter-widgets/base",
      "model_module_version": "1.2.0",
      "model_name": "LayoutModel",
      "state": {}
     },
     "c2b375c745d646108d6379024e252d26": {
      "model_module": "@jupyter-widgets/controls",
      "model_module_version": "1.5.0",
      "model_name": "FloatProgressModel",
      "state": {
       "bar_style": "success",
       "layout": "IPY_MODEL_f7d1f42e136d44bca705191575117937",
       "max": 313,
       "style": "IPY_MODEL_ae9154306aa74808ab9ba6c38ee5ef82",
       "value": 313
      }
     },
     "c3eba6c381134f9586305a499096f36b": {
      "model_module": "@jupyter-widgets/base",
      "model_module_version": "1.2.0",
      "model_name": "LayoutModel",
      "state": {}
     },
     "c430a897104c4c678d5c3207c3fc2e98": {
      "model_module": "@jupyter-widgets/controls",
      "model_module_version": "1.5.0",
      "model_name": "DescriptionStyleModel",
      "state": {
       "description_width": ""
      }
     },
     "c68d79d2324244c5b4fc9b340131e977": {
      "model_module": "@jupyter-widgets/controls",
      "model_module_version": "1.5.0",
      "model_name": "HBoxModel",
      "state": {
       "children": [
        "IPY_MODEL_8f3e1247998f482f8502234186dea54b",
        "IPY_MODEL_cb09a4c61c724b919c0fc014da0da111",
        "IPY_MODEL_5b2f4951e2224f3e9e328cfcc5bc71cb"
       ],
       "layout": "IPY_MODEL_7d0cc23e1d4e4ab99a4f180a3e76fe33"
      }
     },
     "c928566c96184edfa1cada55e7382347": {
      "model_module": "@jupyter-widgets/base",
      "model_module_version": "1.2.0",
      "model_name": "LayoutModel",
      "state": {}
     },
     "cb09a4c61c724b919c0fc014da0da111": {
      "model_module": "@jupyter-widgets/controls",
      "model_module_version": "1.5.0",
      "model_name": "FloatProgressModel",
      "state": {
       "bar_style": "success",
       "layout": "IPY_MODEL_dd4b8e44ac4b4bc48a2d936791debf95",
       "max": 313,
       "style": "IPY_MODEL_2ef0eaf7d52145c8b06fb394c4813c95",
       "value": 313
      }
     },
     "cc64b5f42e25427f90feebc7e17ee8fb": {
      "model_module": "@jupyter-widgets/controls",
      "model_module_version": "1.5.0",
      "model_name": "DescriptionStyleModel",
      "state": {
       "description_width": ""
      }
     },
     "cc6f5bbf60904b3ba9c1cfb0ca550df7": {
      "model_module": "@jupyter-widgets/controls",
      "model_module_version": "1.5.0",
      "model_name": "HBoxModel",
      "state": {
       "children": [
        "IPY_MODEL_e187af83b29b488ca4ba585f3a00efce",
        "IPY_MODEL_72b03ae0183f4906b93cb5ffb7e7dfc0",
        "IPY_MODEL_2a61a11d789449b28b5316614c052811"
       ],
       "layout": "IPY_MODEL_a828f707aba44f27a45b36e1e3a811f2"
      }
     },
     "ce6751eb82774e67952705c1af82feb1": {
      "model_module": "@jupyter-widgets/controls",
      "model_module_version": "1.5.0",
      "model_name": "HTMLModel",
      "state": {
       "layout": "IPY_MODEL_11f0b831a8184149acf8f0cca3c85ca0",
       "style": "IPY_MODEL_404cee5454ec4abaa55f6fdb650f4239",
       "value": " 1/1 [00:02&lt;00:00,  2.48s/it]"
      }
     },
     "cfa557e6bcbc46959592f6da042d19eb": {
      "model_module": "@jupyter-widgets/controls",
      "model_module_version": "1.5.0",
      "model_name": "FloatProgressModel",
      "state": {
       "bar_style": "success",
       "layout": "IPY_MODEL_88991383fe35409d8c7a8b904af899ae",
       "max": 313,
       "style": "IPY_MODEL_90623fcb1a154cd5b660277073869be5",
       "value": 313
      }
     },
     "cfdeec0fa71b4bcf9a09cb4aa4b9818a": {
      "model_module": "@jupyter-widgets/controls",
      "model_module_version": "1.5.0",
      "model_name": "DescriptionStyleModel",
      "state": {
       "description_width": ""
      }
     },
     "d3849fba6e3d492a86e3c2fb7afae01a": {
      "model_module": "@jupyter-widgets/controls",
      "model_module_version": "1.5.0",
      "model_name": "HTMLModel",
      "state": {
       "layout": "IPY_MODEL_ee8ff1fd7e724c9dbc390811ddfee393",
       "style": "IPY_MODEL_bc4dc6e6a3ed412997929e2ce42173b8",
       "value": " 93/313 [01:55&lt;04:30,  1.23s/it]"
      }
     },
     "d3b4a7405ac24fc1b9da653705c7edb6": {
      "model_module": "@jupyter-widgets/controls",
      "model_module_version": "1.5.0",
      "model_name": "HBoxModel",
      "state": {
       "children": [
        "IPY_MODEL_03fd9b969bcd4f2b9da3a7ba5f4add8b",
        "IPY_MODEL_70fc575f42ac47e09cbdcf82931154b8",
        "IPY_MODEL_548a04eff6ec447c86f08b484097ecd6"
       ],
       "layout": "IPY_MODEL_083057d2ceba463798ee133b743f88c3"
      }
     },
     "d45294a3247743ecb50dcd327b1cc6b6": {
      "model_module": "@jupyter-widgets/controls",
      "model_module_version": "1.5.0",
      "model_name": "ProgressStyleModel",
      "state": {
       "description_width": ""
      }
     },
     "d9f5be04e67841498f415f1dee6be800": {
      "model_module": "@jupyter-widgets/controls",
      "model_module_version": "1.5.0",
      "model_name": "HTMLModel",
      "state": {
       "layout": "IPY_MODEL_b2d0b555fa624bec9dc781857a0d97d0",
       "style": "IPY_MODEL_a3e1d3ea4c0444ecbc2ef6ab93a614ab",
       "value": "Scraping: 100%"
      }
     },
     "dca96ddee59e4887bc4fbda5b0358b23": {
      "model_module": "@jupyter-widgets/controls",
      "model_module_version": "1.5.0",
      "model_name": "HTMLModel",
      "state": {
       "layout": "IPY_MODEL_6925b7126e114560a6e69ec196973fb5",
       "style": "IPY_MODEL_cc64b5f42e25427f90feebc7e17ee8fb",
       "value": "Scraping:  31%"
      }
     },
     "dd4b8e44ac4b4bc48a2d936791debf95": {
      "model_module": "@jupyter-widgets/base",
      "model_module_version": "1.2.0",
      "model_name": "LayoutModel",
      "state": {}
     },
     "e03d071e59bd482382953719844aed09": {
      "model_module": "@jupyter-widgets/controls",
      "model_module_version": "1.5.0",
      "model_name": "ProgressStyleModel",
      "state": {
       "description_width": ""
      }
     },
     "e187af83b29b488ca4ba585f3a00efce": {
      "model_module": "@jupyter-widgets/controls",
      "model_module_version": "1.5.0",
      "model_name": "HTMLModel",
      "state": {
       "layout": "IPY_MODEL_f4d43c65c5864e6fa187f4897d72a28a",
       "style": "IPY_MODEL_f652e78381024bdc8a3f8f9f04f0091f",
       "value": "Scraping: 100%"
      }
     },
     "eb0b5f19bd474e849974aee64a9f8d95": {
      "model_module": "@jupyter-widgets/controls",
      "model_module_version": "1.5.0",
      "model_name": "HTMLModel",
      "state": {
       "layout": "IPY_MODEL_c3eba6c381134f9586305a499096f36b",
       "style": "IPY_MODEL_cfdeec0fa71b4bcf9a09cb4aa4b9818a",
       "value": " 313/313 [05:50&lt;00:00,  1.01it/s]"
      }
     },
     "ebe2a2cf08124a93a20aed82d58ea9f6": {
      "model_module": "@jupyter-widgets/controls",
      "model_module_version": "1.5.0",
      "model_name": "FloatProgressModel",
      "state": {
       "bar_style": "success",
       "layout": "IPY_MODEL_be509e050ac94900a3b37bacedd706d2",
       "max": 313,
       "style": "IPY_MODEL_7ea7e41ad5544dc5a2049927fcaa26f0",
       "value": 313
      }
     },
     "ee8ff1fd7e724c9dbc390811ddfee393": {
      "model_module": "@jupyter-widgets/base",
      "model_module_version": "1.2.0",
      "model_name": "LayoutModel",
      "state": {}
     },
     "efbe9d5a0bc5493cb3d376be6728ece5": {
      "model_module": "@jupyter-widgets/base",
      "model_module_version": "1.2.0",
      "model_name": "LayoutModel",
      "state": {}
     },
     "f1c968e52930486b9e1e6c7fc31d0c95": {
      "model_module": "@jupyter-widgets/base",
      "model_module_version": "1.2.0",
      "model_name": "LayoutModel",
      "state": {}
     },
     "f4d43c65c5864e6fa187f4897d72a28a": {
      "model_module": "@jupyter-widgets/base",
      "model_module_version": "1.2.0",
      "model_name": "LayoutModel",
      "state": {}
     },
     "f62b6f0e76b640fc8fda39ab5567a461": {
      "model_module": "@jupyter-widgets/controls",
      "model_module_version": "1.5.0",
      "model_name": "DescriptionStyleModel",
      "state": {
       "description_width": ""
      }
     },
     "f652e78381024bdc8a3f8f9f04f0091f": {
      "model_module": "@jupyter-widgets/controls",
      "model_module_version": "1.5.0",
      "model_name": "DescriptionStyleModel",
      "state": {
       "description_width": ""
      }
     },
     "f755c085dd4840a882e810657678c2a1": {
      "model_module": "@jupyter-widgets/base",
      "model_module_version": "1.2.0",
      "model_name": "LayoutModel",
      "state": {}
     },
     "f7d1f42e136d44bca705191575117937": {
      "model_module": "@jupyter-widgets/base",
      "model_module_version": "1.2.0",
      "model_name": "LayoutModel",
      "state": {}
     },
     "fd03acb9d81947b0be1bb72a096b515e": {
      "model_module": "@jupyter-widgets/controls",
      "model_module_version": "1.5.0",
      "model_name": "DescriptionStyleModel",
      "state": {
       "description_width": ""
      }
     }
    },
    "version_major": 2,
    "version_minor": 0
   }
  }
 },
 "nbformat": 4,
 "nbformat_minor": 4
}
